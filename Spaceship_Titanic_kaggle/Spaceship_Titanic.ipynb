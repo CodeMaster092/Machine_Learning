{
  "cells": [
    {
      "cell_type": "markdown",
      "metadata": {
        "id": "view-in-github",
        "colab_type": "text"
      },
      "source": [
        "<a href=\"https://colab.research.google.com/github/rahultejagorantala/Machine_Learning/blob/main/Spaceship_Titanic_kaggle/Spaceship_Titanic.ipynb\" target=\"_parent\"><img src=\"https://colab.research.google.com/assets/colab-badge.svg\" alt=\"Open In Colab\"/></a>"
      ]
    },
    {
      "cell_type": "code",
      "execution_count": null,
      "id": "0fb733d5",
      "metadata": {
        "id": "0fb733d5"
      },
      "outputs": [],
      "source": [
        "#split passnegerid into two features.\n",
        "# need to predict homeplanet variable.\n"
      ]
    },
    {
      "cell_type": "code",
      "execution_count": null,
      "id": "ca1ef9bf",
      "metadata": {
        "id": "ca1ef9bf",
        "outputId": "882125f1-34ac-4756-88e3-9223b56238d1"
      },
      "outputs": [
        {
          "data": {
            "text/plain": [
              "'/home/linpeng/Downloads/new/train.csv'"
            ]
          },
          "execution_count": 198,
          "metadata": {},
          "output_type": "execute_result"
        }
      ],
      "source": [
        "import pandas as pd\n",
        "import os\n",
        "TRAIN_PATH = os.path.join('/home' + os.sep, 'linpeng', 'Downloads', 'new','train.csv')\n",
        "TEST_PATH  = os.path.join('/home' + os.sep, 'linpeng', 'Downloads', 'new','test.csv')\n",
        "def load_data(path = TRAIN_PATH):\n",
        "   return pd.read_csv(path)\n",
        "TRAIN_PATH"
      ]
    },
    {
      "cell_type": "code",
      "execution_count": null,
      "id": "09e14c74",
      "metadata": {
        "id": "09e14c74"
      },
      "outputs": [],
      "source": [
        "#from google.colab import files\n",
        "#uploaded = files.upload()"
      ]
    },
    {
      "cell_type": "code",
      "execution_count": null,
      "id": "74693722",
      "metadata": {
        "id": "74693722"
      },
      "outputs": [],
      "source": [
        "train_data = load_data(TRAIN_PATH)"
      ]
    },
    {
      "cell_type": "code",
      "execution_count": null,
      "id": "d3ac613d",
      "metadata": {
        "id": "d3ac613d"
      },
      "outputs": [],
      "source": [
        "test_data = load_data(TEST_PATH)"
      ]
    },
    {
      "cell_type": "code",
      "execution_count": null,
      "id": "dad5d12e",
      "metadata": {
        "id": "dad5d12e"
      },
      "outputs": [],
      "source": [
        "import os\n",
        "import pandas as pd\n",
        "import numpy as np"
      ]
    },
    {
      "cell_type": "code",
      "execution_count": null,
      "id": "d1c45638",
      "metadata": {
        "id": "d1c45638"
      },
      "outputs": [],
      "source": [
        "#import io\n",
        "#train_data = pd.read_csv(io.BytesIO(uploaded['train.csv']))"
      ]
    },
    {
      "cell_type": "code",
      "execution_count": null,
      "id": "fea2c3d2",
      "metadata": {
        "id": "fea2c3d2"
      },
      "outputs": [],
      "source": [
        "#test_data = pd.read_csv(io.BytesIO(uploaded['test.csv']))"
      ]
    },
    {
      "cell_type": "code",
      "execution_count": null,
      "id": "e0c0ad0d",
      "metadata": {
        "colab": {
          "base_uri": "https://localhost:8080/",
          "height": 363
        },
        "id": "e0c0ad0d",
        "outputId": "e2b8e783-8912-4d30-dea2-d28e9026d004"
      },
      "outputs": [
        {
          "data": {
            "text/html": [
              "<div>\n",
              "<style scoped>\n",
              "    .dataframe tbody tr th:only-of-type {\n",
              "        vertical-align: middle;\n",
              "    }\n",
              "\n",
              "    .dataframe tbody tr th {\n",
              "        vertical-align: top;\n",
              "    }\n",
              "\n",
              "    .dataframe thead th {\n",
              "        text-align: right;\n",
              "    }\n",
              "</style>\n",
              "<table border=\"1\" class=\"dataframe\">\n",
              "  <thead>\n",
              "    <tr style=\"text-align: right;\">\n",
              "      <th></th>\n",
              "      <th>PassengerId</th>\n",
              "      <th>HomePlanet</th>\n",
              "      <th>CryoSleep</th>\n",
              "      <th>Cabin</th>\n",
              "      <th>Destination</th>\n",
              "      <th>Age</th>\n",
              "      <th>VIP</th>\n",
              "      <th>RoomService</th>\n",
              "      <th>FoodCourt</th>\n",
              "      <th>ShoppingMall</th>\n",
              "      <th>Spa</th>\n",
              "      <th>VRDeck</th>\n",
              "      <th>Name</th>\n",
              "      <th>Transported</th>\n",
              "    </tr>\n",
              "  </thead>\n",
              "  <tbody>\n",
              "    <tr>\n",
              "      <th>0</th>\n",
              "      <td>0001_01</td>\n",
              "      <td>Europa</td>\n",
              "      <td>False</td>\n",
              "      <td>B/0/P</td>\n",
              "      <td>TRAPPIST-1e</td>\n",
              "      <td>39.0</td>\n",
              "      <td>False</td>\n",
              "      <td>0.0</td>\n",
              "      <td>0.0</td>\n",
              "      <td>0.0</td>\n",
              "      <td>0.0</td>\n",
              "      <td>0.0</td>\n",
              "      <td>Maham Ofracculy</td>\n",
              "      <td>False</td>\n",
              "    </tr>\n",
              "    <tr>\n",
              "      <th>1</th>\n",
              "      <td>0002_01</td>\n",
              "      <td>Earth</td>\n",
              "      <td>False</td>\n",
              "      <td>F/0/S</td>\n",
              "      <td>TRAPPIST-1e</td>\n",
              "      <td>24.0</td>\n",
              "      <td>False</td>\n",
              "      <td>109.0</td>\n",
              "      <td>9.0</td>\n",
              "      <td>25.0</td>\n",
              "      <td>549.0</td>\n",
              "      <td>44.0</td>\n",
              "      <td>Juanna Vines</td>\n",
              "      <td>True</td>\n",
              "    </tr>\n",
              "    <tr>\n",
              "      <th>2</th>\n",
              "      <td>0003_01</td>\n",
              "      <td>Europa</td>\n",
              "      <td>False</td>\n",
              "      <td>A/0/S</td>\n",
              "      <td>TRAPPIST-1e</td>\n",
              "      <td>58.0</td>\n",
              "      <td>True</td>\n",
              "      <td>43.0</td>\n",
              "      <td>3576.0</td>\n",
              "      <td>0.0</td>\n",
              "      <td>6715.0</td>\n",
              "      <td>49.0</td>\n",
              "      <td>Altark Susent</td>\n",
              "      <td>False</td>\n",
              "    </tr>\n",
              "    <tr>\n",
              "      <th>3</th>\n",
              "      <td>0003_02</td>\n",
              "      <td>Europa</td>\n",
              "      <td>False</td>\n",
              "      <td>A/0/S</td>\n",
              "      <td>TRAPPIST-1e</td>\n",
              "      <td>33.0</td>\n",
              "      <td>False</td>\n",
              "      <td>0.0</td>\n",
              "      <td>1283.0</td>\n",
              "      <td>371.0</td>\n",
              "      <td>3329.0</td>\n",
              "      <td>193.0</td>\n",
              "      <td>Solam Susent</td>\n",
              "      <td>False</td>\n",
              "    </tr>\n",
              "    <tr>\n",
              "      <th>4</th>\n",
              "      <td>0004_01</td>\n",
              "      <td>Earth</td>\n",
              "      <td>False</td>\n",
              "      <td>F/1/S</td>\n",
              "      <td>TRAPPIST-1e</td>\n",
              "      <td>16.0</td>\n",
              "      <td>False</td>\n",
              "      <td>303.0</td>\n",
              "      <td>70.0</td>\n",
              "      <td>151.0</td>\n",
              "      <td>565.0</td>\n",
              "      <td>2.0</td>\n",
              "      <td>Willy Santantines</td>\n",
              "      <td>True</td>\n",
              "    </tr>\n",
              "    <tr>\n",
              "      <th>5</th>\n",
              "      <td>0005_01</td>\n",
              "      <td>Earth</td>\n",
              "      <td>False</td>\n",
              "      <td>F/0/P</td>\n",
              "      <td>PSO J318.5-22</td>\n",
              "      <td>44.0</td>\n",
              "      <td>False</td>\n",
              "      <td>0.0</td>\n",
              "      <td>483.0</td>\n",
              "      <td>0.0</td>\n",
              "      <td>291.0</td>\n",
              "      <td>0.0</td>\n",
              "      <td>Sandie Hinetthews</td>\n",
              "      <td>True</td>\n",
              "    </tr>\n",
              "    <tr>\n",
              "      <th>6</th>\n",
              "      <td>0006_01</td>\n",
              "      <td>Earth</td>\n",
              "      <td>False</td>\n",
              "      <td>F/2/S</td>\n",
              "      <td>TRAPPIST-1e</td>\n",
              "      <td>26.0</td>\n",
              "      <td>False</td>\n",
              "      <td>42.0</td>\n",
              "      <td>1539.0</td>\n",
              "      <td>3.0</td>\n",
              "      <td>0.0</td>\n",
              "      <td>0.0</td>\n",
              "      <td>Billex Jacostaffey</td>\n",
              "      <td>True</td>\n",
              "    </tr>\n",
              "    <tr>\n",
              "      <th>7</th>\n",
              "      <td>0006_02</td>\n",
              "      <td>Earth</td>\n",
              "      <td>True</td>\n",
              "      <td>G/0/S</td>\n",
              "      <td>TRAPPIST-1e</td>\n",
              "      <td>28.0</td>\n",
              "      <td>False</td>\n",
              "      <td>0.0</td>\n",
              "      <td>0.0</td>\n",
              "      <td>0.0</td>\n",
              "      <td>0.0</td>\n",
              "      <td>NaN</td>\n",
              "      <td>Candra Jacostaffey</td>\n",
              "      <td>True</td>\n",
              "    </tr>\n",
              "    <tr>\n",
              "      <th>8</th>\n",
              "      <td>0007_01</td>\n",
              "      <td>Earth</td>\n",
              "      <td>False</td>\n",
              "      <td>F/3/S</td>\n",
              "      <td>TRAPPIST-1e</td>\n",
              "      <td>35.0</td>\n",
              "      <td>False</td>\n",
              "      <td>0.0</td>\n",
              "      <td>785.0</td>\n",
              "      <td>17.0</td>\n",
              "      <td>216.0</td>\n",
              "      <td>0.0</td>\n",
              "      <td>Andona Beston</td>\n",
              "      <td>True</td>\n",
              "    </tr>\n",
              "    <tr>\n",
              "      <th>9</th>\n",
              "      <td>0008_01</td>\n",
              "      <td>Europa</td>\n",
              "      <td>True</td>\n",
              "      <td>B/1/P</td>\n",
              "      <td>55 Cancri e</td>\n",
              "      <td>14.0</td>\n",
              "      <td>False</td>\n",
              "      <td>0.0</td>\n",
              "      <td>0.0</td>\n",
              "      <td>0.0</td>\n",
              "      <td>0.0</td>\n",
              "      <td>0.0</td>\n",
              "      <td>Erraiam Flatic</td>\n",
              "      <td>True</td>\n",
              "    </tr>\n",
              "  </tbody>\n",
              "</table>\n",
              "</div>"
            ],
            "text/plain": [
              "  PassengerId HomePlanet CryoSleep  Cabin    Destination   Age    VIP  \\\n",
              "0     0001_01     Europa     False  B/0/P    TRAPPIST-1e  39.0  False   \n",
              "1     0002_01      Earth     False  F/0/S    TRAPPIST-1e  24.0  False   \n",
              "2     0003_01     Europa     False  A/0/S    TRAPPIST-1e  58.0   True   \n",
              "3     0003_02     Europa     False  A/0/S    TRAPPIST-1e  33.0  False   \n",
              "4     0004_01      Earth     False  F/1/S    TRAPPIST-1e  16.0  False   \n",
              "5     0005_01      Earth     False  F/0/P  PSO J318.5-22  44.0  False   \n",
              "6     0006_01      Earth     False  F/2/S    TRAPPIST-1e  26.0  False   \n",
              "7     0006_02      Earth      True  G/0/S    TRAPPIST-1e  28.0  False   \n",
              "8     0007_01      Earth     False  F/3/S    TRAPPIST-1e  35.0  False   \n",
              "9     0008_01     Europa      True  B/1/P    55 Cancri e  14.0  False   \n",
              "\n",
              "   RoomService  FoodCourt  ShoppingMall     Spa  VRDeck                Name  \\\n",
              "0          0.0        0.0           0.0     0.0     0.0     Maham Ofracculy   \n",
              "1        109.0        9.0          25.0   549.0    44.0        Juanna Vines   \n",
              "2         43.0     3576.0           0.0  6715.0    49.0       Altark Susent   \n",
              "3          0.0     1283.0         371.0  3329.0   193.0        Solam Susent   \n",
              "4        303.0       70.0         151.0   565.0     2.0   Willy Santantines   \n",
              "5          0.0      483.0           0.0   291.0     0.0   Sandie Hinetthews   \n",
              "6         42.0     1539.0           3.0     0.0     0.0  Billex Jacostaffey   \n",
              "7          0.0        0.0           0.0     0.0     NaN  Candra Jacostaffey   \n",
              "8          0.0      785.0          17.0   216.0     0.0       Andona Beston   \n",
              "9          0.0        0.0           0.0     0.0     0.0      Erraiam Flatic   \n",
              "\n",
              "   Transported  \n",
              "0        False  \n",
              "1         True  \n",
              "2        False  \n",
              "3        False  \n",
              "4         True  \n",
              "5         True  \n",
              "6         True  \n",
              "7         True  \n",
              "8         True  \n",
              "9         True  "
            ]
          },
          "execution_count": 205,
          "metadata": {},
          "output_type": "execute_result"
        }
      ],
      "source": [
        "train_data.head(10)"
      ]
    },
    {
      "cell_type": "code",
      "execution_count": null,
      "id": "14a95bab",
      "metadata": {
        "colab": {
          "base_uri": "https://localhost:8080/",
          "height": 363
        },
        "id": "14a95bab",
        "outputId": "7dae1e7e-a448-456a-97ab-78573f7950e8",
        "scrolled": true
      },
      "outputs": [
        {
          "data": {
            "text/html": [
              "<div>\n",
              "<style scoped>\n",
              "    .dataframe tbody tr th:only-of-type {\n",
              "        vertical-align: middle;\n",
              "    }\n",
              "\n",
              "    .dataframe tbody tr th {\n",
              "        vertical-align: top;\n",
              "    }\n",
              "\n",
              "    .dataframe thead th {\n",
              "        text-align: right;\n",
              "    }\n",
              "</style>\n",
              "<table border=\"1\" class=\"dataframe\">\n",
              "  <thead>\n",
              "    <tr style=\"text-align: right;\">\n",
              "      <th></th>\n",
              "      <th>PassengerId</th>\n",
              "      <th>HomePlanet</th>\n",
              "      <th>CryoSleep</th>\n",
              "      <th>Cabin</th>\n",
              "      <th>Destination</th>\n",
              "      <th>Age</th>\n",
              "      <th>VIP</th>\n",
              "      <th>RoomService</th>\n",
              "      <th>FoodCourt</th>\n",
              "      <th>ShoppingMall</th>\n",
              "      <th>Spa</th>\n",
              "      <th>VRDeck</th>\n",
              "      <th>Name</th>\n",
              "    </tr>\n",
              "  </thead>\n",
              "  <tbody>\n",
              "    <tr>\n",
              "      <th>0</th>\n",
              "      <td>0013_01</td>\n",
              "      <td>Earth</td>\n",
              "      <td>True</td>\n",
              "      <td>G/3/S</td>\n",
              "      <td>TRAPPIST-1e</td>\n",
              "      <td>27.0</td>\n",
              "      <td>False</td>\n",
              "      <td>0.0</td>\n",
              "      <td>0.0</td>\n",
              "      <td>0.0</td>\n",
              "      <td>0.0</td>\n",
              "      <td>0.0</td>\n",
              "      <td>Nelly Carsoning</td>\n",
              "    </tr>\n",
              "    <tr>\n",
              "      <th>1</th>\n",
              "      <td>0018_01</td>\n",
              "      <td>Earth</td>\n",
              "      <td>False</td>\n",
              "      <td>F/4/S</td>\n",
              "      <td>TRAPPIST-1e</td>\n",
              "      <td>19.0</td>\n",
              "      <td>False</td>\n",
              "      <td>0.0</td>\n",
              "      <td>9.0</td>\n",
              "      <td>0.0</td>\n",
              "      <td>2823.0</td>\n",
              "      <td>0.0</td>\n",
              "      <td>Lerome Peckers</td>\n",
              "    </tr>\n",
              "    <tr>\n",
              "      <th>2</th>\n",
              "      <td>0019_01</td>\n",
              "      <td>Europa</td>\n",
              "      <td>True</td>\n",
              "      <td>C/0/S</td>\n",
              "      <td>55 Cancri e</td>\n",
              "      <td>31.0</td>\n",
              "      <td>False</td>\n",
              "      <td>0.0</td>\n",
              "      <td>0.0</td>\n",
              "      <td>0.0</td>\n",
              "      <td>0.0</td>\n",
              "      <td>0.0</td>\n",
              "      <td>Sabih Unhearfus</td>\n",
              "    </tr>\n",
              "    <tr>\n",
              "      <th>3</th>\n",
              "      <td>0021_01</td>\n",
              "      <td>Europa</td>\n",
              "      <td>False</td>\n",
              "      <td>C/1/S</td>\n",
              "      <td>TRAPPIST-1e</td>\n",
              "      <td>38.0</td>\n",
              "      <td>False</td>\n",
              "      <td>0.0</td>\n",
              "      <td>6652.0</td>\n",
              "      <td>0.0</td>\n",
              "      <td>181.0</td>\n",
              "      <td>585.0</td>\n",
              "      <td>Meratz Caltilter</td>\n",
              "    </tr>\n",
              "    <tr>\n",
              "      <th>4</th>\n",
              "      <td>0023_01</td>\n",
              "      <td>Earth</td>\n",
              "      <td>False</td>\n",
              "      <td>F/5/S</td>\n",
              "      <td>TRAPPIST-1e</td>\n",
              "      <td>20.0</td>\n",
              "      <td>False</td>\n",
              "      <td>10.0</td>\n",
              "      <td>0.0</td>\n",
              "      <td>635.0</td>\n",
              "      <td>0.0</td>\n",
              "      <td>0.0</td>\n",
              "      <td>Brence Harperez</td>\n",
              "    </tr>\n",
              "    <tr>\n",
              "      <th>5</th>\n",
              "      <td>0027_01</td>\n",
              "      <td>Earth</td>\n",
              "      <td>False</td>\n",
              "      <td>F/7/P</td>\n",
              "      <td>TRAPPIST-1e</td>\n",
              "      <td>31.0</td>\n",
              "      <td>False</td>\n",
              "      <td>0.0</td>\n",
              "      <td>1615.0</td>\n",
              "      <td>263.0</td>\n",
              "      <td>113.0</td>\n",
              "      <td>60.0</td>\n",
              "      <td>Karlen Ricks</td>\n",
              "    </tr>\n",
              "    <tr>\n",
              "      <th>6</th>\n",
              "      <td>0029_01</td>\n",
              "      <td>Europa</td>\n",
              "      <td>True</td>\n",
              "      <td>B/2/P</td>\n",
              "      <td>55 Cancri e</td>\n",
              "      <td>21.0</td>\n",
              "      <td>False</td>\n",
              "      <td>0.0</td>\n",
              "      <td>NaN</td>\n",
              "      <td>0.0</td>\n",
              "      <td>0.0</td>\n",
              "      <td>0.0</td>\n",
              "      <td>Aldah Ainserfle</td>\n",
              "    </tr>\n",
              "    <tr>\n",
              "      <th>7</th>\n",
              "      <td>0032_01</td>\n",
              "      <td>Europa</td>\n",
              "      <td>True</td>\n",
              "      <td>D/0/S</td>\n",
              "      <td>TRAPPIST-1e</td>\n",
              "      <td>20.0</td>\n",
              "      <td>False</td>\n",
              "      <td>0.0</td>\n",
              "      <td>0.0</td>\n",
              "      <td>0.0</td>\n",
              "      <td>0.0</td>\n",
              "      <td>0.0</td>\n",
              "      <td>Acrabi Pringry</td>\n",
              "    </tr>\n",
              "    <tr>\n",
              "      <th>8</th>\n",
              "      <td>0032_02</td>\n",
              "      <td>Europa</td>\n",
              "      <td>True</td>\n",
              "      <td>D/0/S</td>\n",
              "      <td>55 Cancri e</td>\n",
              "      <td>23.0</td>\n",
              "      <td>False</td>\n",
              "      <td>0.0</td>\n",
              "      <td>0.0</td>\n",
              "      <td>0.0</td>\n",
              "      <td>0.0</td>\n",
              "      <td>0.0</td>\n",
              "      <td>Dhena Pringry</td>\n",
              "    </tr>\n",
              "    <tr>\n",
              "      <th>9</th>\n",
              "      <td>0033_01</td>\n",
              "      <td>Earth</td>\n",
              "      <td>False</td>\n",
              "      <td>F/7/S</td>\n",
              "      <td>55 Cancri e</td>\n",
              "      <td>24.0</td>\n",
              "      <td>False</td>\n",
              "      <td>0.0</td>\n",
              "      <td>639.0</td>\n",
              "      <td>0.0</td>\n",
              "      <td>0.0</td>\n",
              "      <td>0.0</td>\n",
              "      <td>Eliana Delazarson</td>\n",
              "    </tr>\n",
              "  </tbody>\n",
              "</table>\n",
              "</div>"
            ],
            "text/plain": [
              "  PassengerId HomePlanet CryoSleep  Cabin  Destination   Age    VIP  \\\n",
              "0     0013_01      Earth      True  G/3/S  TRAPPIST-1e  27.0  False   \n",
              "1     0018_01      Earth     False  F/4/S  TRAPPIST-1e  19.0  False   \n",
              "2     0019_01     Europa      True  C/0/S  55 Cancri e  31.0  False   \n",
              "3     0021_01     Europa     False  C/1/S  TRAPPIST-1e  38.0  False   \n",
              "4     0023_01      Earth     False  F/5/S  TRAPPIST-1e  20.0  False   \n",
              "5     0027_01      Earth     False  F/7/P  TRAPPIST-1e  31.0  False   \n",
              "6     0029_01     Europa      True  B/2/P  55 Cancri e  21.0  False   \n",
              "7     0032_01     Europa      True  D/0/S  TRAPPIST-1e  20.0  False   \n",
              "8     0032_02     Europa      True  D/0/S  55 Cancri e  23.0  False   \n",
              "9     0033_01      Earth     False  F/7/S  55 Cancri e  24.0  False   \n",
              "\n",
              "   RoomService  FoodCourt  ShoppingMall     Spa  VRDeck               Name  \n",
              "0          0.0        0.0           0.0     0.0     0.0    Nelly Carsoning  \n",
              "1          0.0        9.0           0.0  2823.0     0.0     Lerome Peckers  \n",
              "2          0.0        0.0           0.0     0.0     0.0    Sabih Unhearfus  \n",
              "3          0.0     6652.0           0.0   181.0   585.0   Meratz Caltilter  \n",
              "4         10.0        0.0         635.0     0.0     0.0    Brence Harperez  \n",
              "5          0.0     1615.0         263.0   113.0    60.0       Karlen Ricks  \n",
              "6          0.0        NaN           0.0     0.0     0.0    Aldah Ainserfle  \n",
              "7          0.0        0.0           0.0     0.0     0.0     Acrabi Pringry  \n",
              "8          0.0        0.0           0.0     0.0     0.0      Dhena Pringry  \n",
              "9          0.0      639.0           0.0     0.0     0.0  Eliana Delazarson  "
            ]
          },
          "execution_count": 206,
          "metadata": {},
          "output_type": "execute_result"
        }
      ],
      "source": [
        "test_data.head(10)"
      ]
    },
    {
      "cell_type": "code",
      "execution_count": null,
      "id": "00a4dbb6",
      "metadata": {
        "colab": {
          "base_uri": "https://localhost:8080/"
        },
        "id": "00a4dbb6",
        "outputId": "2dc399a9-f71c-4d7b-a0a9-d6443b83f597"
      },
      "outputs": [
        {
          "name": "stdout",
          "output_type": "stream",
          "text": [
            "<class 'pandas.core.frame.DataFrame'>\n",
            "RangeIndex: 8693 entries, 0 to 8692\n",
            "Data columns (total 14 columns):\n",
            " #   Column        Non-Null Count  Dtype  \n",
            "---  ------        --------------  -----  \n",
            " 0   PassengerId   8693 non-null   object \n",
            " 1   HomePlanet    8492 non-null   object \n",
            " 2   CryoSleep     8476 non-null   object \n",
            " 3   Cabin         8494 non-null   object \n",
            " 4   Destination   8511 non-null   object \n",
            " 5   Age           8514 non-null   float64\n",
            " 6   VIP           8490 non-null   object \n",
            " 7   RoomService   8512 non-null   float64\n",
            " 8   FoodCourt     8510 non-null   float64\n",
            " 9   ShoppingMall  8485 non-null   float64\n",
            " 10  Spa           8510 non-null   float64\n",
            " 11  VRDeck        8505 non-null   float64\n",
            " 12  Name          8493 non-null   object \n",
            " 13  Transported   8693 non-null   bool   \n",
            "dtypes: bool(1), float64(6), object(7)\n",
            "memory usage: 891.5+ KB\n"
          ]
        }
      ],
      "source": [
        "train_data.info()"
      ]
    },
    {
      "cell_type": "code",
      "execution_count": null,
      "id": "cdc1806a",
      "metadata": {
        "colab": {
          "base_uri": "https://localhost:8080/"
        },
        "id": "cdc1806a",
        "outputId": "072e5334-c2a9-45c8-ffc1-4cf350e2c38d",
        "scrolled": true
      },
      "outputs": [
        {
          "data": {
            "text/plain": [
              "True"
            ]
          },
          "execution_count": 208,
          "metadata": {},
          "output_type": "execute_result"
        }
      ],
      "source": [
        "train_data.isnull().values.any()"
      ]
    },
    {
      "cell_type": "code",
      "execution_count": null,
      "id": "00906d0d",
      "metadata": {
        "colab": {
          "base_uri": "https://localhost:8080/"
        },
        "id": "00906d0d",
        "outputId": "ed704599-a383-424b-a79b-a647adeadfdd",
        "scrolled": true
      },
      "outputs": [
        {
          "data": {
            "text/plain": [
              "201"
            ]
          },
          "execution_count": 209,
          "metadata": {},
          "output_type": "execute_result"
        }
      ],
      "source": [
        "train_data[\"HomePlanet\"].isnull().values.sum()"
      ]
    },
    {
      "cell_type": "code",
      "execution_count": null,
      "id": "090656a1",
      "metadata": {
        "colab": {
          "base_uri": "https://localhost:8080/",
          "height": 798
        },
        "id": "090656a1",
        "outputId": "9bc047de-2851-4229-bf8a-0b49b176b6a3"
      },
      "outputs": [
        {
          "name": "stderr",
          "output_type": "stream",
          "text": [
            "/usr/lib/python3/dist-packages/matplotlib/cbook/__init__.py:1402: FutureWarning: Support for multi-dimensional indexing (e.g. `obj[:, None]`) is deprecated and will be removed in a future version.  Convert to a numpy array before indexing instead.\n",
            "  ndim = x[:, None].ndim\n",
            "/usr/lib/python3/dist-packages/matplotlib/axes/_base.py:276: FutureWarning: Support for multi-dimensional indexing (e.g. `obj[:, None]`) is deprecated and will be removed in a future version.  Convert to a numpy array before indexing instead.\n",
            "  x = x[:, np.newaxis]\n",
            "/usr/lib/python3/dist-packages/matplotlib/axes/_base.py:278: FutureWarning: Support for multi-dimensional indexing (e.g. `obj[:, None]`) is deprecated and will be removed in a future version.  Convert to a numpy array before indexing instead.\n",
            "  y = y[:, np.newaxis]\n"
          ]
        },
        {
          "data": {
            "text/plain": [
              "<seaborn.axisgrid.FacetGrid at 0x7fc9c0171130>"
            ]
          },
          "execution_count": 210,
          "metadata": {},
          "output_type": "execute_result"
        },
        {
          "data": {
            "image/png": "[encoded data removed]",
            "text/plain": [
              "<Figure size 720x504 with 1 Axes>"
            ]
          },
          "metadata": {
            "needs_background": "light"
          },
          "output_type": "display_data"
        },
        {
          "data": {
            "image/png": "[encoded data removed]",
            "text/plain": [
              "<Figure size 360x360 with 1 Axes>"
            ]
          },
          "metadata": {
            "needs_background": "light"
          },
          "output_type": "display_data"
        }
      ],
      "source": [
        "import matplotlib.pyplot as plt\n",
        "import seaborn as sns\n",
        "%matplotlib inline\n",
        "\n",
        "train_data['Age'].hist(figsize=(10,7), bins=10)\n",
        "sns.displot(train_data['Age'],kde = True)"
      ]
    },
    {
      "cell_type": "code",
      "execution_count": null,
      "id": "909295cb",
      "metadata": {
        "colab": {
          "base_uri": "https://localhost:8080/",
          "height": 297
        },
        "id": "909295cb",
        "outputId": "e898328f-9c73-42fc-f7f8-c2c5bde20b96"
      },
      "outputs": [
        {
          "data": {
            "text/plain": [
              "<matplotlib.axes._subplots.AxesSubplot at 0x7fc9c01c8640>"
            ]
          },
          "execution_count": 211,
          "metadata": {},
          "output_type": "execute_result"
        },
        {
          "data": {
            "image/png": "[encoded data removed]",
            "text/plain": [
              "<Figure size 432x288 with 1 Axes>"
            ]
          },
          "metadata": {
            "needs_background": "light"
          },
          "output_type": "display_data"
        }
      ],
      "source": [
        "sns.boxplot(x='Transported', y='Age', data = train_data)"
      ]
    },
    {
      "cell_type": "code",
      "execution_count": null,
      "id": "223a8724",
      "metadata": {
        "colab": {
          "base_uri": "https://localhost:8080/",
          "height": 438
        },
        "id": "223a8724",
        "outputId": "587e77b2-253f-49a8-8f73-e212a3c3b44c"
      },
      "outputs": [
        {
          "data": {
            "text/html": [
              "<div>\n",
              "<style scoped>\n",
              "    .dataframe tbody tr th:only-of-type {\n",
              "        vertical-align: middle;\n",
              "    }\n",
              "\n",
              "    .dataframe tbody tr th {\n",
              "        vertical-align: top;\n",
              "    }\n",
              "\n",
              "    .dataframe thead th {\n",
              "        text-align: right;\n",
              "    }\n",
              "</style>\n",
              "<table border=\"1\" class=\"dataframe\">\n",
              "  <thead>\n",
              "    <tr style=\"text-align: right;\">\n",
              "      <th></th>\n",
              "      <th>PassengerId</th>\n",
              "      <th>HomePlanet</th>\n",
              "      <th>CryoSleep</th>\n",
              "      <th>Cabin</th>\n",
              "      <th>Destination</th>\n",
              "      <th>Age</th>\n",
              "      <th>VIP</th>\n",
              "      <th>RoomService</th>\n",
              "      <th>FoodCourt</th>\n",
              "      <th>ShoppingMall</th>\n",
              "      <th>Spa</th>\n",
              "      <th>VRDeck</th>\n",
              "      <th>Name</th>\n",
              "      <th>Transported</th>\n",
              "    </tr>\n",
              "  </thead>\n",
              "  <tbody>\n",
              "    <tr>\n",
              "      <th>count</th>\n",
              "      <td>8693</td>\n",
              "      <td>8492</td>\n",
              "      <td>8476</td>\n",
              "      <td>8494</td>\n",
              "      <td>8511</td>\n",
              "      <td>8514.000000</td>\n",
              "      <td>8490</td>\n",
              "      <td>8512.000000</td>\n",
              "      <td>8510.000000</td>\n",
              "      <td>8485.000000</td>\n",
              "      <td>8510.000000</td>\n",
              "      <td>8505.000000</td>\n",
              "      <td>8493</td>\n",
              "      <td>8693</td>\n",
              "    </tr>\n",
              "    <tr>\n",
              "      <th>unique</th>\n",
              "      <td>8693</td>\n",
              "      <td>3</td>\n",
              "      <td>2</td>\n",
              "      <td>6560</td>\n",
              "      <td>3</td>\n",
              "      <td>NaN</td>\n",
              "      <td>2</td>\n",
              "      <td>NaN</td>\n",
              "      <td>NaN</td>\n",
              "      <td>NaN</td>\n",
              "      <td>NaN</td>\n",
              "      <td>NaN</td>\n",
              "      <td>8473</td>\n",
              "      <td>2</td>\n",
              "    </tr>\n",
              "    <tr>\n",
              "      <th>top</th>\n",
              "      <td>0853_01</td>\n",
              "      <td>Earth</td>\n",
              "      <td>False</td>\n",
              "      <td>G/734/S</td>\n",
              "      <td>TRAPPIST-1e</td>\n",
              "      <td>NaN</td>\n",
              "      <td>False</td>\n",
              "      <td>NaN</td>\n",
              "      <td>NaN</td>\n",
              "      <td>NaN</td>\n",
              "      <td>NaN</td>\n",
              "      <td>NaN</td>\n",
              "      <td>Asch Stradick</td>\n",
              "      <td>True</td>\n",
              "    </tr>\n",
              "    <tr>\n",
              "      <th>freq</th>\n",
              "      <td>1</td>\n",
              "      <td>4602</td>\n",
              "      <td>5439</td>\n",
              "      <td>8</td>\n",
              "      <td>5915</td>\n",
              "      <td>NaN</td>\n",
              "      <td>8291</td>\n",
              "      <td>NaN</td>\n",
              "      <td>NaN</td>\n",
              "      <td>NaN</td>\n",
              "      <td>NaN</td>\n",
              "      <td>NaN</td>\n",
              "      <td>2</td>\n",
              "      <td>4378</td>\n",
              "    </tr>\n",
              "    <tr>\n",
              "      <th>mean</th>\n",
              "      <td>NaN</td>\n",
              "      <td>NaN</td>\n",
              "      <td>NaN</td>\n",
              "      <td>NaN</td>\n",
              "      <td>NaN</td>\n",
              "      <td>28.827930</td>\n",
              "      <td>NaN</td>\n",
              "      <td>224.687617</td>\n",
              "      <td>458.077203</td>\n",
              "      <td>173.729169</td>\n",
              "      <td>311.138778</td>\n",
              "      <td>304.854791</td>\n",
              "      <td>NaN</td>\n",
              "      <td>NaN</td>\n",
              "    </tr>\n",
              "    <tr>\n",
              "      <th>std</th>\n",
              "      <td>NaN</td>\n",
              "      <td>NaN</td>\n",
              "      <td>NaN</td>\n",
              "      <td>NaN</td>\n",
              "      <td>NaN</td>\n",
              "      <td>14.489021</td>\n",
              "      <td>NaN</td>\n",
              "      <td>666.717663</td>\n",
              "      <td>1611.489240</td>\n",
              "      <td>604.696458</td>\n",
              "      <td>1136.705535</td>\n",
              "      <td>1145.717189</td>\n",
              "      <td>NaN</td>\n",
              "      <td>NaN</td>\n",
              "    </tr>\n",
              "    <tr>\n",
              "      <th>min</th>\n",
              "      <td>NaN</td>\n",
              "      <td>NaN</td>\n",
              "      <td>NaN</td>\n",
              "      <td>NaN</td>\n",
              "      <td>NaN</td>\n",
              "      <td>0.000000</td>\n",
              "      <td>NaN</td>\n",
              "      <td>0.000000</td>\n",
              "      <td>0.000000</td>\n",
              "      <td>0.000000</td>\n",
              "      <td>0.000000</td>\n",
              "      <td>0.000000</td>\n",
              "      <td>NaN</td>\n",
              "      <td>NaN</td>\n",
              "    </tr>\n",
              "    <tr>\n",
              "      <th>25%</th>\n",
              "      <td>NaN</td>\n",
              "      <td>NaN</td>\n",
              "      <td>NaN</td>\n",
              "      <td>NaN</td>\n",
              "      <td>NaN</td>\n",
              "      <td>19.000000</td>\n",
              "      <td>NaN</td>\n",
              "      <td>0.000000</td>\n",
              "      <td>0.000000</td>\n",
              "      <td>0.000000</td>\n",
              "      <td>0.000000</td>\n",
              "      <td>0.000000</td>\n",
              "      <td>NaN</td>\n",
              "      <td>NaN</td>\n",
              "    </tr>\n",
              "    <tr>\n",
              "      <th>50%</th>\n",
              "      <td>NaN</td>\n",
              "      <td>NaN</td>\n",
              "      <td>NaN</td>\n",
              "      <td>NaN</td>\n",
              "      <td>NaN</td>\n",
              "      <td>27.000000</td>\n",
              "      <td>NaN</td>\n",
              "      <td>0.000000</td>\n",
              "      <td>0.000000</td>\n",
              "      <td>0.000000</td>\n",
              "      <td>0.000000</td>\n",
              "      <td>0.000000</td>\n",
              "      <td>NaN</td>\n",
              "      <td>NaN</td>\n",
              "    </tr>\n",
              "    <tr>\n",
              "      <th>75%</th>\n",
              "      <td>NaN</td>\n",
              "      <td>NaN</td>\n",
              "      <td>NaN</td>\n",
              "      <td>NaN</td>\n",
              "      <td>NaN</td>\n",
              "      <td>38.000000</td>\n",
              "      <td>NaN</td>\n",
              "      <td>47.000000</td>\n",
              "      <td>76.000000</td>\n",
              "      <td>27.000000</td>\n",
              "      <td>59.000000</td>\n",
              "      <td>46.000000</td>\n",
              "      <td>NaN</td>\n",
              "      <td>NaN</td>\n",
              "    </tr>\n",
              "    <tr>\n",
              "      <th>max</th>\n",
              "      <td>NaN</td>\n",
              "      <td>NaN</td>\n",
              "      <td>NaN</td>\n",
              "      <td>NaN</td>\n",
              "      <td>NaN</td>\n",
              "      <td>79.000000</td>\n",
              "      <td>NaN</td>\n",
              "      <td>14327.000000</td>\n",
              "      <td>29813.000000</td>\n",
              "      <td>23492.000000</td>\n",
              "      <td>22408.000000</td>\n",
              "      <td>24133.000000</td>\n",
              "      <td>NaN</td>\n",
              "      <td>NaN</td>\n",
              "    </tr>\n",
              "  </tbody>\n",
              "</table>\n",
              "</div>"
            ],
            "text/plain": [
              "       PassengerId HomePlanet CryoSleep    Cabin  Destination          Age  \\\n",
              "count         8693       8492      8476     8494         8511  8514.000000   \n",
              "unique        8693          3         2     6560            3          NaN   \n",
              "top        0853_01      Earth     False  G/734/S  TRAPPIST-1e          NaN   \n",
              "freq             1       4602      5439        8         5915          NaN   \n",
              "mean           NaN        NaN       NaN      NaN          NaN    28.827930   \n",
              "std            NaN        NaN       NaN      NaN          NaN    14.489021   \n",
              "min            NaN        NaN       NaN      NaN          NaN     0.000000   \n",
              "25%            NaN        NaN       NaN      NaN          NaN    19.000000   \n",
              "50%            NaN        NaN       NaN      NaN          NaN    27.000000   \n",
              "75%            NaN        NaN       NaN      NaN          NaN    38.000000   \n",
              "max            NaN        NaN       NaN      NaN          NaN    79.000000   \n",
              "\n",
              "          VIP   RoomService     FoodCourt  ShoppingMall           Spa  \\\n",
              "count    8490   8512.000000   8510.000000   8485.000000   8510.000000   \n",
              "unique      2           NaN           NaN           NaN           NaN   \n",
              "top     False           NaN           NaN           NaN           NaN   \n",
              "freq     8291           NaN           NaN           NaN           NaN   \n",
              "mean      NaN    224.687617    458.077203    173.729169    311.138778   \n",
              "std       NaN    666.717663   1611.489240    604.696458   1136.705535   \n",
              "min       NaN      0.000000      0.000000      0.000000      0.000000   \n",
              "25%       NaN      0.000000      0.000000      0.000000      0.000000   \n",
              "50%       NaN      0.000000      0.000000      0.000000      0.000000   \n",
              "75%       NaN     47.000000     76.000000     27.000000     59.000000   \n",
              "max       NaN  14327.000000  29813.000000  23492.000000  22408.000000   \n",
              "\n",
              "              VRDeck           Name Transported  \n",
              "count    8505.000000           8493        8693  \n",
              "unique           NaN           8473           2  \n",
              "top              NaN  Asch Stradick        True  \n",
              "freq             NaN              2        4378  \n",
              "mean      304.854791            NaN         NaN  \n",
              "std      1145.717189            NaN         NaN  \n",
              "min         0.000000            NaN         NaN  \n",
              "25%         0.000000            NaN         NaN  \n",
              "50%         0.000000            NaN         NaN  \n",
              "75%        46.000000            NaN         NaN  \n",
              "max     24133.000000            NaN         NaN  "
            ]
          },
          "execution_count": 212,
          "metadata": {},
          "output_type": "execute_result"
        }
      ],
      "source": [
        "train_data.describe(include = 'all')"
      ]
    },
    {
      "cell_type": "code",
      "execution_count": null,
      "id": "ad2264b0",
      "metadata": {
        "colab": {
          "base_uri": "https://localhost:8080/",
          "height": 807
        },
        "id": "ad2264b0",
        "outputId": "ed925578-d33e-4ffb-aa5d-f232b343b4ff"
      },
      "outputs": [
        {
          "data": {
            "text/plain": [
              "array([[<matplotlib.axes._subplots.AxesSubplot object at 0x7fc9bbda7490>,\n",
              "        <matplotlib.axes._subplots.AxesSubplot object at 0x7fc9bbd55d60>,\n",
              "        <matplotlib.axes._subplots.AxesSubplot object at 0x7fc9bbd09fa0>],\n",
              "       [<matplotlib.axes._subplots.AxesSubplot object at 0x7fc9bbd36700>,\n",
              "        <matplotlib.axes._subplots.AxesSubplot object at 0x7fc9bbce1b80>,\n",
              "        <matplotlib.axes._subplots.AxesSubplot object at 0x7fc9bbc9a040>],\n",
              "       [<matplotlib.axes._subplots.AxesSubplot object at 0x7fc9bbc9ae50>,\n",
              "        <matplotlib.axes._subplots.AxesSubplot object at 0x7fc9bbc52370>,\n",
              "        <matplotlib.axes._subplots.AxesSubplot object at 0x7fc9bbc1cdc0>]],\n",
              "      dtype=object)"
            ]
          },
          "execution_count": 213,
          "metadata": {},
          "output_type": "execute_result"
        },
        {
          "data": {
            "image/png": "[encoded data removed]",
            "text/plain": [
              "<Figure size 1440x720 with 9 Axes>"
            ]
          },
          "metadata": {
            "needs_background": "light"
          },
          "output_type": "display_data"
        }
      ],
      "source": [
        "\n",
        "from pandas.plotting import scatter_matrix\n",
        "attributes = [\"HomePlanet\", \"CryoSleep\", \"Cabin\", \"Destination\", \"Age\", \"VIP\", \"RoomService\", \"FoodCourt\"]\n",
        "scatter_matrix(train_data[attributes], figsize = (20,10))"
      ]
    },
    {
      "cell_type": "code",
      "execution_count": null,
      "id": "708a3462",
      "metadata": {
        "colab": {
          "base_uri": "https://localhost:8080/",
          "height": 269
        },
        "id": "708a3462",
        "outputId": "df66815a-d5c8-4a10-f206-2ad7f335344c",
        "scrolled": true
      },
      "outputs": [
        {
          "data": {
            "text/html": [
              "<div>\n",
              "<style scoped>\n",
              "    .dataframe tbody tr th:only-of-type {\n",
              "        vertical-align: middle;\n",
              "    }\n",
              "\n",
              "    .dataframe tbody tr th {\n",
              "        vertical-align: top;\n",
              "    }\n",
              "\n",
              "    .dataframe thead th {\n",
              "        text-align: right;\n",
              "    }\n",
              "</style>\n",
              "<table border=\"1\" class=\"dataframe\">\n",
              "  <thead>\n",
              "    <tr style=\"text-align: right;\">\n",
              "      <th></th>\n",
              "      <th>Age</th>\n",
              "      <th>RoomService</th>\n",
              "      <th>FoodCourt</th>\n",
              "      <th>ShoppingMall</th>\n",
              "      <th>Spa</th>\n",
              "      <th>VRDeck</th>\n",
              "      <th>Transported</th>\n",
              "    </tr>\n",
              "  </thead>\n",
              "  <tbody>\n",
              "    <tr>\n",
              "      <th>Age</th>\n",
              "      <td>1.000000</td>\n",
              "      <td>0.068723</td>\n",
              "      <td>0.130421</td>\n",
              "      <td>0.033133</td>\n",
              "      <td>0.123970</td>\n",
              "      <td>0.101007</td>\n",
              "      <td>-0.075026</td>\n",
              "    </tr>\n",
              "    <tr>\n",
              "      <th>RoomService</th>\n",
              "      <td>0.068723</td>\n",
              "      <td>1.000000</td>\n",
              "      <td>-0.015889</td>\n",
              "      <td>0.054480</td>\n",
              "      <td>0.010080</td>\n",
              "      <td>-0.019581</td>\n",
              "      <td>-0.244611</td>\n",
              "    </tr>\n",
              "    <tr>\n",
              "      <th>FoodCourt</th>\n",
              "      <td>0.130421</td>\n",
              "      <td>-0.015889</td>\n",
              "      <td>1.000000</td>\n",
              "      <td>-0.014228</td>\n",
              "      <td>0.221891</td>\n",
              "      <td>0.227995</td>\n",
              "      <td>0.046566</td>\n",
              "    </tr>\n",
              "    <tr>\n",
              "      <th>ShoppingMall</th>\n",
              "      <td>0.033133</td>\n",
              "      <td>0.054480</td>\n",
              "      <td>-0.014228</td>\n",
              "      <td>1.000000</td>\n",
              "      <td>0.013879</td>\n",
              "      <td>-0.007322</td>\n",
              "      <td>0.010141</td>\n",
              "    </tr>\n",
              "    <tr>\n",
              "      <th>Spa</th>\n",
              "      <td>0.123970</td>\n",
              "      <td>0.010080</td>\n",
              "      <td>0.221891</td>\n",
              "      <td>0.013879</td>\n",
              "      <td>1.000000</td>\n",
              "      <td>0.153821</td>\n",
              "      <td>-0.221131</td>\n",
              "    </tr>\n",
              "    <tr>\n",
              "      <th>VRDeck</th>\n",
              "      <td>0.101007</td>\n",
              "      <td>-0.019581</td>\n",
              "      <td>0.227995</td>\n",
              "      <td>-0.007322</td>\n",
              "      <td>0.153821</td>\n",
              "      <td>1.000000</td>\n",
              "      <td>-0.207075</td>\n",
              "    </tr>\n",
              "    <tr>\n",
              "      <th>Transported</th>\n",
              "      <td>-0.075026</td>\n",
              "      <td>-0.244611</td>\n",
              "      <td>0.046566</td>\n",
              "      <td>0.010141</td>\n",
              "      <td>-0.221131</td>\n",
              "      <td>-0.207075</td>\n",
              "      <td>1.000000</td>\n",
              "    </tr>\n",
              "  </tbody>\n",
              "</table>\n",
              "</div>"
            ],
            "text/plain": [
              "                   Age  RoomService  FoodCourt  ShoppingMall       Spa  \\\n",
              "Age           1.000000     0.068723   0.130421      0.033133  0.123970   \n",
              "RoomService   0.068723     1.000000  -0.015889      0.054480  0.010080   \n",
              "FoodCourt     0.130421    -0.015889   1.000000     -0.014228  0.221891   \n",
              "ShoppingMall  0.033133     0.054480  -0.014228      1.000000  0.013879   \n",
              "Spa           0.123970     0.010080   0.221891      0.013879  1.000000   \n",
              "VRDeck        0.101007    -0.019581   0.227995     -0.007322  0.153821   \n",
              "Transported  -0.075026    -0.244611   0.046566      0.010141 -0.221131   \n",
              "\n",
              "                VRDeck  Transported  \n",
              "Age           0.101007    -0.075026  \n",
              "RoomService  -0.019581    -0.244611  \n",
              "FoodCourt     0.227995     0.046566  \n",
              "ShoppingMall -0.007322     0.010141  \n",
              "Spa           0.153821    -0.221131  \n",
              "VRDeck        1.000000    -0.207075  \n",
              "Transported  -0.207075     1.000000  "
            ]
          },
          "execution_count": 214,
          "metadata": {},
          "output_type": "execute_result"
        }
      ],
      "source": [
        "corr = train_data.corr()\n",
        "corr"
      ]
    },
    {
      "cell_type": "code",
      "execution_count": null,
      "id": "cb1d2a2f",
      "metadata": {
        "colab": {
          "base_uri": "https://localhost:8080/",
          "height": 345
        },
        "id": "cb1d2a2f",
        "outputId": "42653fc4-dcb6-4948-bb4a-6dbd30747456"
      },
      "outputs": [
        {
          "data": {
            "text/plain": [
              "<matplotlib.axes._subplots.AxesSubplot at 0x7fc9bba44670>"
            ]
          },
          "execution_count": 215,
          "metadata": {},
          "output_type": "execute_result"
        },
        {
          "data": {
            "image/png": "[encoded data removed]",
            "text/plain": [
              "<Figure size 432x288 with 2 Axes>"
            ]
          },
          "metadata": {
            "needs_background": "light"
          },
          "output_type": "display_data"
        }
      ],
      "source": [
        "\n",
        "sns.heatmap(corr, annot=True)"
      ]
    },
    {
      "cell_type": "code",
      "execution_count": null,
      "id": "e536fe1a",
      "metadata": {
        "colab": {
          "base_uri": "https://localhost:8080/",
          "height": 488
        },
        "id": "e536fe1a",
        "outputId": "5315e10d-a164-484c-a686-ea9716c91ebd",
        "scrolled": false
      },
      "outputs": [
        {
          "data": {
            "text/html": [
              "<div>\n",
              "<style scoped>\n",
              "    .dataframe tbody tr th:only-of-type {\n",
              "        vertical-align: middle;\n",
              "    }\n",
              "\n",
              "    .dataframe tbody tr th {\n",
              "        vertical-align: top;\n",
              "    }\n",
              "\n",
              "    .dataframe thead th {\n",
              "        text-align: right;\n",
              "    }\n",
              "</style>\n",
              "<table border=\"1\" class=\"dataframe\">\n",
              "  <thead>\n",
              "    <tr style=\"text-align: right;\">\n",
              "      <th></th>\n",
              "      <th>Total</th>\n",
              "      <th>Percentage</th>\n",
              "    </tr>\n",
              "  </thead>\n",
              "  <tbody>\n",
              "    <tr>\n",
              "      <th>CryoSleep</th>\n",
              "      <td>217</td>\n",
              "      <td>2.496261</td>\n",
              "    </tr>\n",
              "    <tr>\n",
              "      <th>ShoppingMall</th>\n",
              "      <td>208</td>\n",
              "      <td>2.392730</td>\n",
              "    </tr>\n",
              "    <tr>\n",
              "      <th>VIP</th>\n",
              "      <td>203</td>\n",
              "      <td>2.335212</td>\n",
              "    </tr>\n",
              "    <tr>\n",
              "      <th>HomePlanet</th>\n",
              "      <td>201</td>\n",
              "      <td>2.312205</td>\n",
              "    </tr>\n",
              "    <tr>\n",
              "      <th>Name</th>\n",
              "      <td>200</td>\n",
              "      <td>2.300702</td>\n",
              "    </tr>\n",
              "    <tr>\n",
              "      <th>Cabin</th>\n",
              "      <td>199</td>\n",
              "      <td>2.289198</td>\n",
              "    </tr>\n",
              "    <tr>\n",
              "      <th>VRDeck</th>\n",
              "      <td>188</td>\n",
              "      <td>2.162660</td>\n",
              "    </tr>\n",
              "    <tr>\n",
              "      <th>Spa</th>\n",
              "      <td>183</td>\n",
              "      <td>2.105142</td>\n",
              "    </tr>\n",
              "    <tr>\n",
              "      <th>FoodCourt</th>\n",
              "      <td>183</td>\n",
              "      <td>2.105142</td>\n",
              "    </tr>\n",
              "    <tr>\n",
              "      <th>Destination</th>\n",
              "      <td>182</td>\n",
              "      <td>2.093639</td>\n",
              "    </tr>\n",
              "    <tr>\n",
              "      <th>RoomService</th>\n",
              "      <td>181</td>\n",
              "      <td>2.082135</td>\n",
              "    </tr>\n",
              "    <tr>\n",
              "      <th>Age</th>\n",
              "      <td>179</td>\n",
              "      <td>2.059128</td>\n",
              "    </tr>\n",
              "    <tr>\n",
              "      <th>Transported</th>\n",
              "      <td>0</td>\n",
              "      <td>0.000000</td>\n",
              "    </tr>\n",
              "    <tr>\n",
              "      <th>PassengerId</th>\n",
              "      <td>0</td>\n",
              "      <td>0.000000</td>\n",
              "    </tr>\n",
              "  </tbody>\n",
              "</table>\n",
              "</div>"
            ],
            "text/plain": [
              "              Total  Percentage\n",
              "CryoSleep       217    2.496261\n",
              "ShoppingMall    208    2.392730\n",
              "VIP             203    2.335212\n",
              "HomePlanet      201    2.312205\n",
              "Name            200    2.300702\n",
              "Cabin           199    2.289198\n",
              "VRDeck          188    2.162660\n",
              "Spa             183    2.105142\n",
              "FoodCourt       183    2.105142\n",
              "Destination     182    2.093639\n",
              "RoomService     181    2.082135\n",
              "Age             179    2.059128\n",
              "Transported       0    0.000000\n",
              "PassengerId       0    0.000000"
            ]
          },
          "execution_count": 216,
          "metadata": {},
          "output_type": "execute_result"
        }
      ],
      "source": [
        "#finding missing values\n",
        "total = train_data.isnull().sum().sort_values(ascending = False)\n",
        "percentage = train_data.isnull().sum()/train_data.isnull().count()*100\n",
        "percentage1 = percentage.sort_values(ascending = False)\n",
        "missing_values = pd.concat([total, percentage1], axis = 1, keys = ['Total', 'Percentage'])\n",
        "missing_values"
      ]
    },
    {
      "cell_type": "code",
      "execution_count": null,
      "id": "49ac26c8",
      "metadata": {
        "id": "49ac26c8"
      },
      "outputs": [],
      "source": [
        "#correlation matrix cannot be used to understand continuous and categorical data, so this corr() is not needed."
      ]
    },
    {
      "cell_type": "code",
      "execution_count": null,
      "id": "a0b85d36",
      "metadata": {
        "colab": {
          "base_uri": "https://localhost:8080/",
          "height": 175
        },
        "id": "a0b85d36",
        "outputId": "d3d1fc88-35e7-4126-fa76-ae738d594591"
      },
      "outputs": [
        {
          "data": {
            "text/html": [
              "<div>\n",
              "<style scoped>\n",
              "    .dataframe tbody tr th:only-of-type {\n",
              "        vertical-align: middle;\n",
              "    }\n",
              "\n",
              "    .dataframe tbody tr th {\n",
              "        vertical-align: top;\n",
              "    }\n",
              "\n",
              "    .dataframe thead th {\n",
              "        text-align: right;\n",
              "    }\n",
              "</style>\n",
              "<table border=\"1\" class=\"dataframe\">\n",
              "  <thead>\n",
              "    <tr style=\"text-align: right;\">\n",
              "      <th>Transported</th>\n",
              "      <th>False</th>\n",
              "      <th>True</th>\n",
              "    </tr>\n",
              "    <tr>\n",
              "      <th>HomePlanet</th>\n",
              "      <th></th>\n",
              "      <th></th>\n",
              "    </tr>\n",
              "  </thead>\n",
              "  <tbody>\n",
              "    <tr>\n",
              "      <th>Earth</th>\n",
              "      <td>2651</td>\n",
              "      <td>1951</td>\n",
              "    </tr>\n",
              "    <tr>\n",
              "      <th>Europa</th>\n",
              "      <td>727</td>\n",
              "      <td>1404</td>\n",
              "    </tr>\n",
              "    <tr>\n",
              "      <th>Mars</th>\n",
              "      <td>839</td>\n",
              "      <td>920</td>\n",
              "    </tr>\n",
              "  </tbody>\n",
              "</table>\n",
              "</div>"
            ],
            "text/plain": [
              "Transported  False  True \n",
              "HomePlanet               \n",
              "Earth         2651   1951\n",
              "Europa         727   1404\n",
              "Mars           839    920"
            ]
          },
          "execution_count": 218,
          "metadata": {},
          "output_type": "execute_result"
        }
      ],
      "source": [
        "pd.crosstab(train_data['HomePlanet'],train_data['Transported'] )"
      ]
    },
    {
      "cell_type": "code",
      "execution_count": null,
      "id": "8536bbe2",
      "metadata": {
        "colab": {
          "base_uri": "https://localhost:8080/"
        },
        "id": "8536bbe2",
        "outputId": "37681743-873b-4e23-b027-159c27697a5a",
        "scrolled": true
      },
      "outputs": [
        {
          "data": {
            "text/plain": [
              "Earth     4602\n",
              "Europa    2131\n",
              "Mars      1759\n",
              "Name: HomePlanet, dtype: int64"
            ]
          },
          "execution_count": 219,
          "metadata": {},
          "output_type": "execute_result"
        }
      ],
      "source": [
        "train_data['HomePlanet'].value_counts()"
      ]
    },
    {
      "cell_type": "code",
      "execution_count": null,
      "id": "1b033118",
      "metadata": {
        "colab": {
          "base_uri": "https://localhost:8080/"
        },
        "id": "1b033118",
        "outputId": "34729335-d4dc-41e6-9af5-0a327cce6789"
      },
      "outputs": [
        {
          "name": "stdout",
          "output_type": "stream",
          "text": [
            "[40, 58, 72, 74, 74, 76, 81, 83, 84, 92]\n"
          ]
        },
        {
          "data": {
            "text/plain": [
              "75.0"
            ]
          },
          "execution_count": 220,
          "metadata": {},
          "output_type": "execute_result"
        }
      ],
      "source": [
        "a = [58,72,74,92,84,40,74,81,76,83]\n",
        "\n",
        "from statistics import median\n",
        "a.sort()\n",
        "print(a)\n",
        "median(a)"
      ]
    },
    {
      "cell_type": "code",
      "execution_count": null,
      "id": "1c40deae",
      "metadata": {
        "colab": {
          "base_uri": "https://localhost:8080/",
          "height": 283
        },
        "id": "1c40deae",
        "outputId": "05df3160-ddb2-46d3-9e1f-0d7d5ea6492e"
      },
      "outputs": [
        {
          "data": {
            "text/plain": [
              "<matplotlib.axes._subplots.AxesSubplot at 0x7fc9bb9b2070>"
            ]
          },
          "execution_count": 221,
          "metadata": {},
          "output_type": "execute_result"
        },
        {
          "data": {
            "image/png": "[encoded data removed]",
            "text/plain": [
              "<Figure size 432x288 with 1 Axes>"
            ]
          },
          "metadata": {
            "needs_background": "light"
          },
          "output_type": "display_data"
        }
      ],
      "source": [
        "sns.boxplot(data = a)"
      ]
    },
    {
      "cell_type": "code",
      "execution_count": null,
      "id": "cec79bac",
      "metadata": {
        "id": "cec79bac"
      },
      "outputs": [],
      "source": [
        "#crosstab is used to Analyse categorical data.\n",
        "#by above we can say that Europa people have more chance of getting transported."
      ]
    },
    {
      "cell_type": "code",
      "execution_count": null,
      "id": "d8383440",
      "metadata": {
        "colab": {
          "base_uri": "https://localhost:8080/"
        },
        "id": "d8383440",
        "outputId": "4f6b6c16-1120-4892-c894-120974d37ace"
      },
      "outputs": [
        {
          "data": {
            "text/plain": [
              "(True, True)"
            ]
          },
          "execution_count": 223,
          "metadata": {},
          "output_type": "execute_result"
        }
      ],
      "source": [
        "#finding the null for each feature.\n",
        "test_data.isnull().values.any(), train_data.isnull().values.any()"
      ]
    },
    {
      "cell_type": "code",
      "execution_count": null,
      "id": "12f9bc56",
      "metadata": {
        "id": "12f9bc56"
      },
      "outputs": [],
      "source": [
        "# In a benchmark, concatenating multiple dataframes by using the Pandas. concat function is 50 times faster than using the DataFrame.\n",
        "def find_null_count(data):\n",
        "    null_values = data.isnull().sum().sort_values(ascending =False)\n",
        "    percentage  = null_values/data.isnull().count().sort_values(ascending = False) \n",
        "    \n",
        "    #output = pd.DataFrame(null_values, columns=['Total'])\n",
        "    output = pd.concat([null_values, percentage], axis = 1, keys = ['Total','Percentage'])\n",
        "    print(output)"
      ]
    },
    {
      "cell_type": "code",
      "execution_count": null,
      "id": "1cdc8e4e",
      "metadata": {
        "colab": {
          "base_uri": "https://localhost:8080/"
        },
        "id": "1cdc8e4e",
        "outputId": "1a7777f8-bb7e-4fed-e971-cb9f7df0cdf3"
      },
      "outputs": [
        {
          "name": "stdout",
          "output_type": "stream",
          "text": [
            "              Total  Percentage\n",
            "CryoSleep       217    0.024963\n",
            "ShoppingMall    208    0.023927\n",
            "VIP             203    0.023352\n",
            "HomePlanet      201    0.023122\n",
            "Name            200    0.023007\n",
            "Cabin           199    0.022892\n",
            "VRDeck          188    0.021627\n",
            "Spa             183    0.021051\n",
            "FoodCourt       183    0.021051\n",
            "Destination     182    0.020936\n",
            "RoomService     181    0.020821\n",
            "Age             179    0.020591\n",
            "Transported       0    0.000000\n",
            "PassengerId       0    0.000000\n",
            "              Total  Percentage\n",
            "FoodCourt       106    0.024784\n",
            "Spa             101    0.023615\n",
            "Cabin           100    0.023381\n",
            "ShoppingMall     98    0.022913\n",
            "Name             94    0.021978\n",
            "VIP              93    0.021744\n",
            "CryoSleep        93    0.021744\n",
            "Destination      92    0.021510\n",
            "Age              91    0.021277\n",
            "HomePlanet       87    0.020341\n",
            "RoomService      82    0.019172\n",
            "VRDeck           80    0.018705\n",
            "PassengerId       0    0.000000\n"
          ]
        },
        {
          "data": {
            "text/plain": [
              "(None, None)"
            ]
          },
          "execution_count": 225,
          "metadata": {},
          "output_type": "execute_result"
        }
      ],
      "source": [
        "find_null_count(train_data), find_null_count(test_data)\n",
        "# we an see most of the features have equal number of null values."
      ]
    },
    {
      "cell_type": "code",
      "execution_count": null,
      "id": "f2f5422f",
      "metadata": {
        "colab": {
          "base_uri": "https://localhost:8080/",
          "height": 49
        },
        "id": "f2f5422f",
        "outputId": "a4d2ef1d-2a1f-4451-888b-6b3a66184e18"
      },
      "outputs": [
        {
          "data": {
            "text/html": [
              "<div>\n",
              "<style scoped>\n",
              "    .dataframe tbody tr th:only-of-type {\n",
              "        vertical-align: middle;\n",
              "    }\n",
              "\n",
              "    .dataframe tbody tr th {\n",
              "        vertical-align: top;\n",
              "    }\n",
              "\n",
              "    .dataframe thead th {\n",
              "        text-align: right;\n",
              "    }\n",
              "</style>\n",
              "<table border=\"1\" class=\"dataframe\">\n",
              "  <thead>\n",
              "    <tr style=\"text-align: right;\">\n",
              "      <th></th>\n",
              "      <th>PassengerId</th>\n",
              "      <th>HomePlanet</th>\n",
              "      <th>CryoSleep</th>\n",
              "      <th>Cabin</th>\n",
              "      <th>Destination</th>\n",
              "      <th>Age</th>\n",
              "      <th>VIP</th>\n",
              "      <th>RoomService</th>\n",
              "      <th>FoodCourt</th>\n",
              "      <th>ShoppingMall</th>\n",
              "      <th>Spa</th>\n",
              "      <th>VRDeck</th>\n",
              "      <th>Name</th>\n",
              "      <th>Transported</th>\n",
              "    </tr>\n",
              "  </thead>\n",
              "  <tbody>\n",
              "  </tbody>\n",
              "</table>\n",
              "</div>"
            ],
            "text/plain": [
              "Empty DataFrame\n",
              "Columns: [PassengerId, HomePlanet, CryoSleep, Cabin, Destination, Age, VIP, RoomService, FoodCourt, ShoppingMall, Spa, VRDeck, Name, Transported]\n",
              "Index: []"
            ]
          },
          "execution_count": 226,
          "metadata": {},
          "output_type": "execute_result"
        }
      ],
      "source": [
        "#first code the categorical variables.\n",
        "train_data[train_data['HomePlanet'] == 'NaN']"
      ]
    },
    {
      "cell_type": "code",
      "execution_count": null,
      "id": "444311e7",
      "metadata": {
        "id": "444311e7"
      },
      "outputs": [],
      "source": [
        "data = [train_data, test_data]\n",
        "mappers= {\"Earth\":1, \"Europa\":2, \"Mars\":3}\n",
        "\n",
        "for dataset in data:\n",
        "    dataset['HomePlanet'] = dataset['HomePlanet'].map(mappers)"
      ]
    },
    {
      "cell_type": "code",
      "execution_count": null,
      "id": "fe0870c2",
      "metadata": {
        "id": "fe0870c2"
      },
      "outputs": [],
      "source": [
        "# we can use imputer to replace all the null values to some value like median.\n",
        "from sklearn.impute import SimpleImputer   # Scikit-Learn provides a handy class to take care of missing values: SimpleImputer\n",
        "imputer = SimpleImputer(strategy = \"median\")"
      ]
    },
    {
      "cell_type": "code",
      "execution_count": null,
      "id": "1480d603",
      "metadata": {
        "id": "1480d603"
      },
      "outputs": [],
      "source": [
        "train_data['HomePlanet'].fillna(0, inplace=True)"
      ]
    },
    {
      "cell_type": "code",
      "execution_count": null,
      "id": "4226ba82",
      "metadata": {
        "colab": {
          "base_uri": "https://localhost:8080/"
        },
        "id": "4226ba82",
        "outputId": "40507f06-9502-422a-e9b0-3fee709db260",
        "scrolled": true
      },
      "outputs": [
        {
          "data": {
            "text/plain": [
              "1.0    4602\n",
              "2.0    2131\n",
              "3.0    1759\n",
              "0.0     201\n",
              "Name: HomePlanet, dtype: int64"
            ]
          },
          "execution_count": 230,
          "metadata": {},
          "output_type": "execute_result"
        }
      ],
      "source": [
        "train_data['HomePlanet'].value_counts()"
      ]
    },
    {
      "cell_type": "code",
      "execution_count": null,
      "id": "d4dfe366",
      "metadata": {
        "id": "d4dfe366"
      },
      "outputs": [],
      "source": [
        "#now we can use the dataset where the value is 0 as the test set.\n",
        "HomePlanet_test = train_data[train_data['HomePlanet'] == 0]\n",
        "HomePlanet_train = train_data[train_data['HomePlanet'] != 0]\n",
        "HomePlanet_y_train = HomePlanet_train[\"HomePlanet\"]\n",
        "HomePlanet_x_train = HomePlanet_train.drop([\"HomePlanet\"], axis=1)\n",
        "HomePlanet_x_test  = HomePlanet_train.drop([\"HomePlanet\"], axis=1)"
      ]
    },
    {
      "cell_type": "code",
      "execution_count": null,
      "id": "efa21c51",
      "metadata": {
        "id": "efa21c51"
      },
      "outputs": [],
      "source": [
        "#but as more of them are categorial values in our case it is not good to use this.\n",
        "#better way is to use a model to predict the values.\n",
        "\n",
        "from sklearn.linear_model import LogisticRegression\n",
        "model = LogisticRegression()\n",
        "#model.fit(HomePlanet_x_train, HomePlanet_y_train)\n",
        "#model.predict(HomePlanet_x_test)\n",
        "\n",
        "# we are getting error as the we did not convert all categorical variables. so lets move to next step."
      ]
    },
    {
      "cell_type": "code",
      "execution_count": null,
      "id": "c1c1d475",
      "metadata": {
        "id": "c1c1d475"
      },
      "outputs": [],
      "source": [
        "from sklearn import tree\n",
        "\n",
        "#clf= tree.DecisionTreeClassifier()\n",
        "#clf.fit(HomePlanet_x_train, HomePlanet_y_train)\n",
        "#decisciontree also has same problem"
      ]
    },
    {
      "cell_type": "code",
      "execution_count": null,
      "id": "49a95449",
      "metadata": {
        "id": "49a95449"
      },
      "outputs": [],
      "source": [
        "from sklearn.pipeline import Pipeline\n",
        "from sklearn.preprocessing import StandardScaler\n",
        "\n",
        "num_pipeline = Pipeline([('imputer', SimpleImputer(strategy='median')),\n",
        "                        ('std_scalar', StandardScaler())])\n",
        "#housing_num_tr = num_pipeline.fit_transform(HomePlanet_x_train)\n",
        "#housing_num_tr"
      ]
    },
    {
      "cell_type": "code",
      "execution_count": null,
      "id": "b891f6d6",
      "metadata": {
        "id": "b891f6d6"
      },
      "outputs": [],
      "source": [
        "#housing_num_tr.isnull().any().values"
      ]
    },
    {
      "cell_type": "code",
      "execution_count": null,
      "id": "383c9cff",
      "metadata": {
        "scrolled": true,
        "id": "383c9cff"
      },
      "outputs": [],
      "source": [
        "#HomePlanet_x_train[cat_attribs].isnull().any().values"
      ]
    },
    {
      "cell_type": "code",
      "execution_count": null,
      "id": "96f3ab06",
      "metadata": {
        "id": "96f3ab06"
      },
      "outputs": [],
      "source": [
        "#HomePlanet_x_train[cat_attribs] = HomePlanet_x_train[cat_attribs].fillna('bfill', inplace=False)"
      ]
    },
    {
      "cell_type": "code",
      "execution_count": null,
      "id": "c5e9b082",
      "metadata": {
        "id": "c5e9b082"
      },
      "outputs": [],
      "source": [
        "from sklearn.compose import ColumnTransformer\n",
        "from sklearn.preprocessing import OneHotEncoder\n",
        "\n",
        "num_attribs = [\"Age\", \"RoomService\", \"FoodCourt\", \"ShoppingMall\", \"Spa\", \"VRDeck\"]\n",
        "cat_attribs = [\"PassengerId\", \"Cabin\", \"CryoSleep\", \"Destination\", \"VIP\", \"Name\", \"Transported\"]\n",
        "# here cabin feature cannot be onehot encoded, it should be manually coded to numbers.\n",
        "\n",
        "#full_pipeline = ColumnTransformer([('num', num_pipeline, num_attribs),\n",
        "                                 #  ('cat', OneHotEncoder(), cat_attribs)\n",
        "                                 # ])\n",
        "\n",
        "#housing_prepared = full_pipeline.fit_transform(HomePlanet_x_train)\n",
        "#housing_prepared\n",
        "#type(housing_prepared)"
      ]
    },
    {
      "cell_type": "code",
      "execution_count": null,
      "id": "43e03934",
      "metadata": {
        "id": "43e03934"
      },
      "outputs": [],
      "source": [
        "#model.fit(housing_prepared, HomePlanet_y_train)\n",
        "#model.predict(HomePlanet_x_test)"
      ]
    },
    {
      "cell_type": "code",
      "execution_count": null,
      "id": "3867672b",
      "metadata": {
        "id": "3867672b"
      },
      "outputs": [],
      "source": [
        "#we cant directly use transormer to covert all categorical variables to numerical to use for prediction \n",
        "#as the data has Cabin could not be encoded by onehot, we have to do it manually\n",
        "#and i dont want to usesimple imputer to predict the missing values because there are categorical variables and it will not make \\\n",
        "#much sense to do that.\n",
        "#so coding manually "
      ]
    },
    {
      "cell_type": "code",
      "execution_count": null,
      "id": "ed2b20f5",
      "metadata": {
        "colab": {
          "base_uri": "https://localhost:8080/"
        },
        "id": "ed2b20f5",
        "outputId": "360b3f09-4fe2-454d-bd94-a64f063c8cef"
      },
      "outputs": [
        {
          "name": "stdout",
          "output_type": "stream",
          "text": [
            "<class 'pandas.core.frame.DataFrame'>\n",
            "RangeIndex: 8693 entries, 0 to 8692\n",
            "Data columns (total 14 columns):\n",
            " #   Column        Non-Null Count  Dtype  \n",
            "---  ------        --------------  -----  \n",
            " 0   PassengerId   8693 non-null   object \n",
            " 1   HomePlanet    8693 non-null   float64\n",
            " 2   CryoSleep     8476 non-null   object \n",
            " 3   Cabin         8494 non-null   object \n",
            " 4   Destination   8511 non-null   object \n",
            " 5   Age           8514 non-null   float64\n",
            " 6   VIP           8490 non-null   object \n",
            " 7   RoomService   8512 non-null   float64\n",
            " 8   FoodCourt     8510 non-null   float64\n",
            " 9   ShoppingMall  8485 non-null   float64\n",
            " 10  Spa           8510 non-null   float64\n",
            " 11  VRDeck        8505 non-null   float64\n",
            " 12  Name          8493 non-null   object \n",
            " 13  Transported   8693 non-null   bool   \n",
            "dtypes: bool(1), float64(7), object(6)\n",
            "memory usage: 891.5+ KB\n"
          ]
        }
      ],
      "source": [
        "train_data.info()"
      ]
    },
    {
      "cell_type": "code",
      "execution_count": null,
      "id": "1a2d69b8",
      "metadata": {
        "id": "1a2d69b8"
      },
      "outputs": [],
      "source": [
        "#coding CryoSleep to numbers\n",
        "data = [train_data, test_data]\n",
        "mappers= {True:1, False:0}\n",
        "\n",
        "for dataset in data:\n",
        "    dataset['CryoSleep'] = dataset['CryoSleep'].map(mappers)"
      ]
    },
    {
      "cell_type": "code",
      "execution_count": null,
      "id": "d3ca6810",
      "metadata": {
        "id": "d3ca6810"
      },
      "outputs": [],
      "source": [
        "#now filling cabin with previous values\n",
        "data = [train_data, test_data]\n",
        "\n",
        "for dataset in data:\n",
        "    dataset['Cabin'].fillna(method=\"ffill\", inplace=True)"
      ]
    },
    {
      "cell_type": "code",
      "execution_count": null,
      "id": "06801c28",
      "metadata": {
        "colab": {
          "base_uri": "https://localhost:8080/"
        },
        "id": "06801c28",
        "outputId": "cd773133-c45a-4753-f175-62d6bb8b518b"
      },
      "outputs": [
        {
          "data": {
            "text/plain": [
              "False"
            ]
          },
          "execution_count": 244,
          "metadata": {},
          "output_type": "execute_result"
        }
      ],
      "source": [
        "train_data[\"Cabin\"].isnull().values.any()"
      ]
    },
    {
      "cell_type": "code",
      "execution_count": null,
      "id": "5e61ef02",
      "metadata": {
        "colab": {
          "base_uri": "https://localhost:8080/"
        },
        "id": "5e61ef02",
        "outputId": "f0454055-a176-4e3f-8220-913695fc8bd5"
      },
      "outputs": [
        {
          "data": {
            "text/plain": [
              "TRAPPIST-1e      5915\n",
              "55 Cancri e      1800\n",
              "PSO J318.5-22     796\n",
              "Name: Destination, dtype: int64"
            ]
          },
          "execution_count": 245,
          "metadata": {},
          "output_type": "execute_result"
        }
      ],
      "source": [
        "#now coding destination\n",
        "train_data[\"Destination\"].value_counts()"
      ]
    },
    {
      "cell_type": "code",
      "execution_count": null,
      "id": "ce3cddd1",
      "metadata": {
        "id": "ce3cddd1"
      },
      "outputs": [],
      "source": [
        "data = [train_data, test_data]\n",
        "mappers= {\"TRAPPIST-1e\":1, \"55 Cancri e\":2, \"PSO J318.5-22\":3}\n",
        "\n",
        "for dataset in data:\n",
        "    dataset['Destination'] = dataset['Destination'].map(mappers)"
      ]
    },
    {
      "cell_type": "code",
      "execution_count": null,
      "id": "b543a8be",
      "metadata": {
        "colab": {
          "base_uri": "https://localhost:8080/"
        },
        "id": "b543a8be",
        "outputId": "6d897edd-cef7-4575-c1a2-23112626cc28",
        "scrolled": true
      },
      "outputs": [
        {
          "data": {
            "text/plain": [
              "True"
            ]
          },
          "execution_count": 247,
          "metadata": {},
          "output_type": "execute_result"
        }
      ],
      "source": [
        "train_data[\"Destination\"].isnull().values.any()"
      ]
    },
    {
      "cell_type": "code",
      "execution_count": null,
      "id": "4283ba0c",
      "metadata": {
        "colab": {
          "base_uri": "https://localhost:8080/"
        },
        "id": "4283ba0c",
        "outputId": "2a71a8b1-7b7e-4953-e0c6-5efbe06ece52"
      },
      "outputs": [
        {
          "data": {
            "text/plain": [
              "0"
            ]
          },
          "execution_count": 248,
          "metadata": {},
          "output_type": "execute_result"
        }
      ],
      "source": [
        "#handling Age values, filling all the values using randon.randint\n",
        "import numpy as np\n",
        "data = [train_data, test_data]\n",
        "\n",
        "for dataset in data:\n",
        "    mean = train_data[\"Age\"].mean()\n",
        "    std = test_data[\"Age\"].std()\n",
        "    is_null = dataset[\"Age\"].isnull().sum()\n",
        "    # compute random numbers between the mean, std and is_null\n",
        "    rand_age = np.random.randint(mean - std, mean + std, size = is_null)\n",
        "    # fill NaN values in Age column with random values generated\n",
        "    age_slice = dataset[\"Age\"].copy()\n",
        "    age_slice[np.isnan(age_slice)] = rand_age\n",
        "    dataset[\"Age\"] = age_slice\n",
        "    dataset[\"Age\"] = dataset[\"Age\"].astype(int)\n",
        "train_data[\"Age\"].isnull().sum()"
      ]
    },
    {
      "cell_type": "code",
      "execution_count": null,
      "id": "1fd840cb",
      "metadata": {
        "id": "1fd840cb"
      },
      "outputs": [],
      "source": [
        "#handling VIP status\n",
        "data = [train_data, test_data]\n",
        "mappers= {True:1, False:0}\n",
        "\n",
        "for dataset in data:\n",
        "    dataset['VIP'] = dataset['VIP'].map(mappers)"
      ]
    },
    {
      "cell_type": "code",
      "execution_count": null,
      "id": "31c6cea3",
      "metadata": {
        "colab": {
          "base_uri": "https://localhost:8080/"
        },
        "id": "31c6cea3",
        "outputId": "89cee747-555e-4019-cbf1-1e1b256112e5"
      },
      "outputs": [
        {
          "data": {
            "text/plain": [
              "0"
            ]
          },
          "execution_count": 250,
          "metadata": {},
          "output_type": "execute_result"
        }
      ],
      "source": [
        "#handling RoomService by filling with random values.\n",
        "data = [train_data, test_data]\n",
        "\n",
        "for dataset in data:\n",
        "    mean = train_data[\"RoomService\"].mean()\n",
        "    std = test_data[\"RoomService\"].std()\n",
        "    is_null = dataset[\"RoomService\"].isnull().sum()\n",
        "    # compute random numbers between the mean, std and is_null\n",
        "    rand_age = np.random.randint(mean - std, mean + std, size = is_null)\n",
        "    # fill NaN values in Age column with random values generated\n",
        "    rm_slice = dataset[\"RoomService\"].copy()\n",
        "    rm_slice[np.isnan(rm_slice)] = rand_age\n",
        "    dataset[\"RoomService\"] = rm_slice\n",
        "    dataset[\"RoomService\"] = dataset[\"RoomService\"].astype(int)\n",
        "train_data[\"RoomService\"].isnull().sum()"
      ]
    },
    {
      "cell_type": "code",
      "execution_count": null,
      "id": "2d6fa871",
      "metadata": {
        "colab": {
          "base_uri": "https://localhost:8080/"
        },
        "id": "2d6fa871",
        "outputId": "cc52e3b3-45c0-4fb3-adc2-91ff1764edb5"
      },
      "outputs": [
        {
          "data": {
            "text/plain": [
              "(pandas.core.series.Series,\n",
              " 0       False\n",
              " 1       False\n",
              " 2       False\n",
              " 3       False\n",
              " 4       False\n",
              "         ...  \n",
              " 4272    False\n",
              " 4273    False\n",
              " 4274    False\n",
              " 4275    False\n",
              " 4276    False\n",
              " Name: RoomService, Length: 4277, dtype: bool,\n",
              " Series([], Name: RoomService, dtype: float64))"
            ]
          },
          "execution_count": 251,
          "metadata": {},
          "output_type": "execute_result"
        }
      ],
      "source": [
        "type(rm_slice), np.isnan(rm_slice), rm_slice[np.isnan(rm_slice)]"
      ]
    },
    {
      "cell_type": "code",
      "execution_count": null,
      "id": "4025e0d0",
      "metadata": {
        "colab": {
          "base_uri": "https://localhost:8080/"
        },
        "id": "4025e0d0",
        "outputId": "701dd355-c51d-4480-8ebb-465a1e46af6f"
      },
      "outputs": [
        {
          "data": {
            "text/plain": [
              "0"
            ]
          },
          "execution_count": 252,
          "metadata": {},
          "output_type": "execute_result"
        }
      ],
      "source": [
        "#handling 'FoodCourt', 'ShoppingMall', 'Spa', 'VRDeck' by filling with random values.\n",
        "data = [train_data, test_data]\n",
        "for value in ['FoodCourt', 'ShoppingMall', 'Spa', 'VRDeck']:\n",
        "    for dataset in data:\n",
        "        mean = train_data[value].mean()\n",
        "        std = test_data[value].std()\n",
        "        is_null = dataset[value].isnull().sum()\n",
        "        # compute random numbers between the mean, std and is_null\n",
        "        rand_age = np.random.randint(mean - std, mean + std, size = is_null)\n",
        "        # fill NaN values in Age column with random values generated\n",
        "        rm_slice = dataset[value].copy()\n",
        "        rm_slice[np.isnan(rm_slice)] = rand_age\n",
        "        dataset[value] = rm_slice\n",
        "        dataset[value] = dataset[value].astype(int)\n",
        "train_data[value].isnull().sum()"
      ]
    },
    {
      "cell_type": "code",
      "execution_count": null,
      "id": "d989f7c8",
      "metadata": {
        "id": "d989f7c8"
      },
      "outputs": [],
      "source": [
        "#name can be removed as it is insignificant in prediction.\n",
        "train_data = train_data.drop(['Name'], axis=1)\n",
        "test_data = test_data.drop(['Name'], axis=1)"
      ]
    },
    {
      "cell_type": "code",
      "execution_count": null,
      "id": "0f77aaec",
      "metadata": {
        "colab": {
          "base_uri": "https://localhost:8080/"
        },
        "id": "0f77aaec",
        "outputId": "33d0febd-deda-4a8a-c13a-3b128d1d753e",
        "scrolled": false
      },
      "outputs": [
        {
          "name": "stdout",
          "output_type": "stream",
          "text": [
            "              Total  Percentage\n",
            "CryoSleep       217    0.024963\n",
            "VIP             203    0.023352\n",
            "Destination     182    0.020936\n",
            "Transported       0    0.000000\n",
            "VRDeck            0    0.000000\n",
            "Spa               0    0.000000\n",
            "ShoppingMall      0    0.000000\n",
            "FoodCourt         0    0.000000\n",
            "RoomService       0    0.000000\n",
            "Age               0    0.000000\n",
            "Cabin             0    0.000000\n",
            "HomePlanet        0    0.000000\n",
            "PassengerId       0    0.000000\n"
          ]
        }
      ],
      "source": [
        "find_null_count(train_data)"
      ]
    },
    {
      "cell_type": "code",
      "execution_count": null,
      "id": "e5366d21",
      "metadata": {
        "colab": {
          "base_uri": "https://localhost:8080/"
        },
        "id": "e5366d21",
        "outputId": "0a302058-99c7-4dbf-f984-1b9bd092b17b",
        "scrolled": false
      },
      "outputs": [
        {
          "name": "stderr",
          "output_type": "stream",
          "text": [
            "<ipython-input-255-c9bae7edc08b>:9: SettingWithCopyWarning: \n",
            "A value is trying to be set on a copy of a slice from a DataFrame\n",
            "\n",
            "See the caveats in the documentation: https://pandas.pydata.org/pandas-docs/stable/user_guide/indexing.html#returning-a-view-versus-a-copy\n",
            "  dataset['deck'][row] = dataset['Cabin'][row][:dataset['Cabin'][row].index('/')]\n",
            "<ipython-input-255-c9bae7edc08b>:10: SettingWithCopyWarning: \n",
            "A value is trying to be set on a copy of a slice from a DataFrame\n",
            "\n",
            "See the caveats in the documentation: https://pandas.pydata.org/pandas-docs/stable/user_guide/indexing.html#returning-a-view-versus-a-copy\n",
            "  dataset['num'][row]  = dataset['Cabin'][row][len(dataset['deck'][row]) + 1:dataset['Cabin'][row].index('/', 2)]\n",
            "<ipython-input-255-c9bae7edc08b>:13: SettingWithCopyWarning: \n",
            "A value is trying to be set on a copy of a slice from a DataFrame\n",
            "\n",
            "See the caveats in the documentation: https://pandas.pydata.org/pandas-docs/stable/user_guide/indexing.html#returning-a-view-versus-a-copy\n",
            "  dataset['port'][row]  = dataset['Cabin'][row][index_value + 1:]\n"
          ]
        },
        {
          "name": "stdout",
          "output_type": "stream",
          "text": [
            "0       P\n",
            "1       S\n",
            "2       S\n",
            "3       S\n",
            "4       S\n",
            "       ..\n",
            "8688    P\n",
            "8689    S\n",
            "8690    S\n",
            "8691    S\n",
            "8692    S\n",
            "Name: port, Length: 8693, dtype: object\n"
          ]
        }
      ],
      "source": [
        "#split cabin into 3 different varaibles.\n",
        "data = [train_data, test_data]\n",
        "\n",
        "for dataset in data:\n",
        "    dataset['deck'] = dataset['Cabin'].copy()\n",
        "    dataset['num']  = dataset['Cabin'].copy()\n",
        "    dataset['port']  = dataset['Cabin'].copy()\n",
        "    for row in range(len(dataset[\"Cabin\"])):  \n",
        "        dataset['deck'][row] = dataset['Cabin'][row][:dataset['Cabin'][row].index('/')]\n",
        "        dataset['num'][row]  = dataset['Cabin'][row][len(dataset['deck'][row]) + 1:dataset['Cabin'][row].index('/', 2)]\n",
        "        index_value = len(dataset['deck'][row]) + len(dataset['num'][row]) + 1\n",
        "        #print(index_value)\n",
        "        dataset['port'][row]  = dataset['Cabin'][row][index_value + 1:]\n",
        "        #print(dataset['Cabin'][row][len(dataset['deck'][row])+1:dataset['Cabin'][row].index('/', 2,10)])\n",
        "        #print(dataset['Cabin'][row].index('/', 2,10), len(dataset['deck'][row])+1)\n",
        "        \n",
        "\n",
        "print(train_data['port'])"
      ]
    },
    {
      "cell_type": "code",
      "execution_count": null,
      "id": "565eb6b9",
      "metadata": {
        "id": "565eb6b9"
      },
      "outputs": [],
      "source": [
        "train_data['num'] = train_data['num'].astype(int)"
      ]
    },
    {
      "cell_type": "code",
      "execution_count": null,
      "id": "3fb20178",
      "metadata": {
        "colab": {
          "base_uri": "https://localhost:8080/"
        },
        "id": "3fb20178",
        "outputId": "69ba7a44-25fe-47cc-b25f-ef6606fed90d",
        "scrolled": false
      },
      "outputs": [
        {
          "name": "stdout",
          "output_type": "stream",
          "text": [
            "     deck port   num\n",
            "0       B    P     0\n",
            "1       F    S     0\n",
            "2       A    S     0\n",
            "3       A    S     0\n",
            "4       F    S     1\n",
            "...   ...  ...   ...\n",
            "8688    A    P    98\n",
            "8689    G    S  1499\n",
            "8690    G    S  1500\n",
            "8691    E    S   608\n",
            "8692    E    S   608\n",
            "\n",
            "[8693 rows x 3 columns]\n"
          ]
        }
      ],
      "source": [
        "print(train_data[['deck', 'port', 'num']])\n",
        "train_data.drop(['Cabin'], axis = 1, inplace=True)"
      ]
    },
    {
      "cell_type": "code",
      "execution_count": null,
      "id": "cd9b877e",
      "metadata": {
        "id": "cd9b877e"
      },
      "outputs": [],
      "source": [
        "#coding deck and port\n",
        "data = [train_data, test_data]\n",
        "mappers= {'P':1, 'S':0}\n",
        "\n",
        "for dataset in data:\n",
        "    dataset['port'] = dataset['port'].map(mappers)"
      ]
    },
    {
      "cell_type": "code",
      "execution_count": null,
      "id": "3bce4e09",
      "metadata": {
        "colab": {
          "base_uri": "https://localhost:8080/"
        },
        "id": "3bce4e09",
        "outputId": "465fd8b6-8d2a-4c83-cc69-079ae2ed3dc5"
      },
      "outputs": [
        {
          "data": {
            "text/plain": [
              "F    2847\n",
              "G    2626\n",
              "E     897\n",
              "B     803\n",
              "C     764\n",
              "D     485\n",
              "A     266\n",
              "T       5\n",
              "Name: deck, dtype: int64"
            ]
          },
          "execution_count": 259,
          "metadata": {},
          "output_type": "execute_result"
        }
      ],
      "source": [
        "train_data[\"deck\"].value_counts()"
      ]
    },
    {
      "cell_type": "code",
      "execution_count": null,
      "id": "ca9a8719",
      "metadata": {
        "id": "ca9a8719"
      },
      "outputs": [],
      "source": [
        "data = [train_data, test_data]\n",
        "mappers= {'A':0, 'B':1, 'C':2,'D':3,'E':4,'F':5,'G':6,'T':7}\n",
        "\n",
        "for dataset in data:\n",
        "    dataset['deck'] = dataset['deck'].map(mappers)"
      ]
    },
    {
      "cell_type": "code",
      "execution_count": null,
      "id": "bfcb0645",
      "metadata": {
        "colab": {
          "base_uri": "https://localhost:8080/",
          "height": 458
        },
        "id": "bfcb0645",
        "outputId": "187322e4-b684-4f17-ddd6-6aec30aa8340"
      },
      "outputs": [
        {
          "data": {
            "text/html": [
              "<div>\n",
              "<style scoped>\n",
              "    .dataframe tbody tr th:only-of-type {\n",
              "        vertical-align: middle;\n",
              "    }\n",
              "\n",
              "    .dataframe tbody tr th {\n",
              "        vertical-align: top;\n",
              "    }\n",
              "\n",
              "    .dataframe thead th {\n",
              "        text-align: right;\n",
              "    }\n",
              "</style>\n",
              "<table border=\"1\" class=\"dataframe\">\n",
              "  <thead>\n",
              "    <tr style=\"text-align: right;\">\n",
              "      <th></th>\n",
              "      <th>PassengerId</th>\n",
              "      <th>HomePlanet</th>\n",
              "      <th>CryoSleep</th>\n",
              "      <th>Destination</th>\n",
              "      <th>Age</th>\n",
              "      <th>VIP</th>\n",
              "      <th>RoomService</th>\n",
              "      <th>FoodCourt</th>\n",
              "      <th>ShoppingMall</th>\n",
              "      <th>Spa</th>\n",
              "      <th>VRDeck</th>\n",
              "      <th>Transported</th>\n",
              "      <th>deck</th>\n",
              "      <th>num</th>\n",
              "      <th>port</th>\n",
              "    </tr>\n",
              "  </thead>\n",
              "  <tbody>\n",
              "    <tr>\n",
              "      <th>count</th>\n",
              "      <td>8693</td>\n",
              "      <td>8693.000000</td>\n",
              "      <td>8476.000000</td>\n",
              "      <td>8511.000000</td>\n",
              "      <td>8693.000000</td>\n",
              "      <td>8490.000000</td>\n",
              "      <td>8693.000000</td>\n",
              "      <td>8693.000000</td>\n",
              "      <td>8693.000000</td>\n",
              "      <td>8693.000000</td>\n",
              "      <td>8693.000000</td>\n",
              "      <td>8693</td>\n",
              "      <td>8693.000000</td>\n",
              "      <td>8693.000000</td>\n",
              "      <td>8693.000000</td>\n",
              "    </tr>\n",
              "    <tr>\n",
              "      <th>unique</th>\n",
              "      <td>8693</td>\n",
              "      <td>NaN</td>\n",
              "      <td>NaN</td>\n",
              "      <td>NaN</td>\n",
              "      <td>NaN</td>\n",
              "      <td>NaN</td>\n",
              "      <td>NaN</td>\n",
              "      <td>NaN</td>\n",
              "      <td>NaN</td>\n",
              "      <td>NaN</td>\n",
              "      <td>NaN</td>\n",
              "      <td>2</td>\n",
              "      <td>NaN</td>\n",
              "      <td>NaN</td>\n",
              "      <td>NaN</td>\n",
              "    </tr>\n",
              "    <tr>\n",
              "      <th>top</th>\n",
              "      <td>0853_01</td>\n",
              "      <td>NaN</td>\n",
              "      <td>NaN</td>\n",
              "      <td>NaN</td>\n",
              "      <td>NaN</td>\n",
              "      <td>NaN</td>\n",
              "      <td>NaN</td>\n",
              "      <td>NaN</td>\n",
              "      <td>NaN</td>\n",
              "      <td>NaN</td>\n",
              "      <td>NaN</td>\n",
              "      <td>True</td>\n",
              "      <td>NaN</td>\n",
              "      <td>NaN</td>\n",
              "      <td>NaN</td>\n",
              "    </tr>\n",
              "    <tr>\n",
              "      <th>freq</th>\n",
              "      <td>1</td>\n",
              "      <td>NaN</td>\n",
              "      <td>NaN</td>\n",
              "      <td>NaN</td>\n",
              "      <td>NaN</td>\n",
              "      <td>NaN</td>\n",
              "      <td>NaN</td>\n",
              "      <td>NaN</td>\n",
              "      <td>NaN</td>\n",
              "      <td>NaN</td>\n",
              "      <td>NaN</td>\n",
              "      <td>4378</td>\n",
              "      <td>NaN</td>\n",
              "      <td>NaN</td>\n",
              "      <td>NaN</td>\n",
              "    </tr>\n",
              "    <tr>\n",
              "      <th>mean</th>\n",
              "      <td>NaN</td>\n",
              "      <td>1.626711</td>\n",
              "      <td>0.358306</td>\n",
              "      <td>1.398543</td>\n",
              "      <td>28.791902</td>\n",
              "      <td>0.023439</td>\n",
              "      <td>225.549753</td>\n",
              "      <td>458.897159</td>\n",
              "      <td>173.301507</td>\n",
              "      <td>310.437478</td>\n",
              "      <td>304.982055</td>\n",
              "      <td>NaN</td>\n",
              "      <td>4.302312</td>\n",
              "      <td>598.691361</td>\n",
              "      <td>0.496606</td>\n",
              "    </tr>\n",
              "    <tr>\n",
              "      <th>std</th>\n",
              "      <td>NaN</td>\n",
              "      <td>0.827623</td>\n",
              "      <td>0.479531</td>\n",
              "      <td>0.653306</td>\n",
              "      <td>14.388696</td>\n",
              "      <td>0.151303</td>\n",
              "      <td>661.701958</td>\n",
              "      <td>1599.177903</td>\n",
              "      <td>599.603965</td>\n",
              "      <td>1128.620063</td>\n",
              "      <td>1138.406117</td>\n",
              "      <td>NaN</td>\n",
              "      <td>1.782770</td>\n",
              "      <td>511.749587</td>\n",
              "      <td>0.500017</td>\n",
              "    </tr>\n",
              "    <tr>\n",
              "      <th>min</th>\n",
              "      <td>NaN</td>\n",
              "      <td>0.000000</td>\n",
              "      <td>0.000000</td>\n",
              "      <td>1.000000</td>\n",
              "      <td>0.000000</td>\n",
              "      <td>0.000000</td>\n",
              "      <td>-378.000000</td>\n",
              "      <td>-1061.000000</td>\n",
              "      <td>-366.000000</td>\n",
              "      <td>-780.000000</td>\n",
              "      <td>-927.000000</td>\n",
              "      <td>NaN</td>\n",
              "      <td>0.000000</td>\n",
              "      <td>0.000000</td>\n",
              "      <td>0.000000</td>\n",
              "    </tr>\n",
              "    <tr>\n",
              "      <th>25%</th>\n",
              "      <td>NaN</td>\n",
              "      <td>1.000000</td>\n",
              "      <td>0.000000</td>\n",
              "      <td>1.000000</td>\n",
              "      <td>19.000000</td>\n",
              "      <td>0.000000</td>\n",
              "      <td>0.000000</td>\n",
              "      <td>0.000000</td>\n",
              "      <td>0.000000</td>\n",
              "      <td>0.000000</td>\n",
              "      <td>0.000000</td>\n",
              "      <td>NaN</td>\n",
              "      <td>3.000000</td>\n",
              "      <td>166.000000</td>\n",
              "      <td>0.000000</td>\n",
              "    </tr>\n",
              "    <tr>\n",
              "      <th>50%</th>\n",
              "      <td>NaN</td>\n",
              "      <td>1.000000</td>\n",
              "      <td>0.000000</td>\n",
              "      <td>1.000000</td>\n",
              "      <td>27.000000</td>\n",
              "      <td>0.000000</td>\n",
              "      <td>0.000000</td>\n",
              "      <td>0.000000</td>\n",
              "      <td>0.000000</td>\n",
              "      <td>0.000000</td>\n",
              "      <td>0.000000</td>\n",
              "      <td>NaN</td>\n",
              "      <td>5.000000</td>\n",
              "      <td>425.000000</td>\n",
              "      <td>0.000000</td>\n",
              "    </tr>\n",
              "    <tr>\n",
              "      <th>75%</th>\n",
              "      <td>NaN</td>\n",
              "      <td>2.000000</td>\n",
              "      <td>1.000000</td>\n",
              "      <td>2.000000</td>\n",
              "      <td>38.000000</td>\n",
              "      <td>0.000000</td>\n",
              "      <td>63.000000</td>\n",
              "      <td>94.000000</td>\n",
              "      <td>33.000000</td>\n",
              "      <td>72.000000</td>\n",
              "      <td>57.000000</td>\n",
              "      <td>NaN</td>\n",
              "      <td>6.000000</td>\n",
              "      <td>996.000000</td>\n",
              "      <td>1.000000</td>\n",
              "    </tr>\n",
              "    <tr>\n",
              "      <th>max</th>\n",
              "      <td>NaN</td>\n",
              "      <td>3.000000</td>\n",
              "      <td>1.000000</td>\n",
              "      <td>3.000000</td>\n",
              "      <td>79.000000</td>\n",
              "      <td>1.000000</td>\n",
              "      <td>14327.000000</td>\n",
              "      <td>29813.000000</td>\n",
              "      <td>23492.000000</td>\n",
              "      <td>22408.000000</td>\n",
              "      <td>24133.000000</td>\n",
              "      <td>NaN</td>\n",
              "      <td>7.000000</td>\n",
              "      <td>1894.000000</td>\n",
              "      <td>1.000000</td>\n",
              "    </tr>\n",
              "  </tbody>\n",
              "</table>\n",
              "</div>"
            ],
            "text/plain": [
              "       PassengerId   HomePlanet    CryoSleep  Destination          Age  \\\n",
              "count         8693  8693.000000  8476.000000  8511.000000  8693.000000   \n",
              "unique        8693          NaN          NaN          NaN          NaN   \n",
              "top        0853_01          NaN          NaN          NaN          NaN   \n",
              "freq             1          NaN          NaN          NaN          NaN   \n",
              "mean           NaN     1.626711     0.358306     1.398543    28.791902   \n",
              "std            NaN     0.827623     0.479531     0.653306    14.388696   \n",
              "min            NaN     0.000000     0.000000     1.000000     0.000000   \n",
              "25%            NaN     1.000000     0.000000     1.000000    19.000000   \n",
              "50%            NaN     1.000000     0.000000     1.000000    27.000000   \n",
              "75%            NaN     2.000000     1.000000     2.000000    38.000000   \n",
              "max            NaN     3.000000     1.000000     3.000000    79.000000   \n",
              "\n",
              "                VIP   RoomService     FoodCourt  ShoppingMall           Spa  \\\n",
              "count   8490.000000   8693.000000   8693.000000   8693.000000   8693.000000   \n",
              "unique          NaN           NaN           NaN           NaN           NaN   \n",
              "top             NaN           NaN           NaN           NaN           NaN   \n",
              "freq            NaN           NaN           NaN           NaN           NaN   \n",
              "mean       0.023439    225.549753    458.897159    173.301507    310.437478   \n",
              "std        0.151303    661.701958   1599.177903    599.603965   1128.620063   \n",
              "min        0.000000   -378.000000  -1061.000000   -366.000000   -780.000000   \n",
              "25%        0.000000      0.000000      0.000000      0.000000      0.000000   \n",
              "50%        0.000000      0.000000      0.000000      0.000000      0.000000   \n",
              "75%        0.000000     63.000000     94.000000     33.000000     72.000000   \n",
              "max        1.000000  14327.000000  29813.000000  23492.000000  22408.000000   \n",
              "\n",
              "              VRDeck Transported         deck          num         port  \n",
              "count    8693.000000        8693  8693.000000  8693.000000  8693.000000  \n",
              "unique           NaN           2          NaN          NaN          NaN  \n",
              "top              NaN        True          NaN          NaN          NaN  \n",
              "freq             NaN        4378          NaN          NaN          NaN  \n",
              "mean      304.982055         NaN     4.302312   598.691361     0.496606  \n",
              "std      1138.406117         NaN     1.782770   511.749587     0.500017  \n",
              "min      -927.000000         NaN     0.000000     0.000000     0.000000  \n",
              "25%         0.000000         NaN     3.000000   166.000000     0.000000  \n",
              "50%         0.000000         NaN     5.000000   425.000000     0.000000  \n",
              "75%        57.000000         NaN     6.000000   996.000000     1.000000  \n",
              "max     24133.000000         NaN     7.000000  1894.000000     1.000000  "
            ]
          },
          "execution_count": 261,
          "metadata": {},
          "output_type": "execute_result"
        }
      ],
      "source": [
        "train_data.describe(include = 'all')"
      ]
    },
    {
      "cell_type": "code",
      "execution_count": null,
      "id": "e66afdb8",
      "metadata": {
        "id": "e66afdb8"
      },
      "outputs": [],
      "source": [
        "#let us fill cryosleep, VIP, Destination by predicting.\n",
        "#again creating the data\n",
        "#now we can use the dataset where the value is 0 as the test set.\n",
        "HomePlanet_test = train_data[train_data['HomePlanet'] == 0]\n",
        "HomePlanet_train = train_data[train_data['HomePlanet'] != 0]\n",
        "HomePlanet_y_train = HomePlanet_train[\"HomePlanet\"]\n",
        "HomePlanet_x_train = HomePlanet_train.drop([\"HomePlanet\",'CryoSleep', 'VIP', 'Destination'], axis=1)\n",
        "HomePlanet_x_test  = HomePlanet_test.drop([\"HomePlanet\",'CryoSleep', 'VIP', 'Destination'], axis=1)"
      ]
    },
    {
      "cell_type": "code",
      "execution_count": null,
      "id": "bed438ec",
      "metadata": {
        "id": "bed438ec"
      },
      "outputs": [],
      "source": [
        "from sklearn.linear_model import LogisticRegression\n",
        "from sklearn import tree\n",
        "\n",
        "clf= tree.DecisionTreeClassifier()\n",
        "clf.fit(HomePlanet_x_train, HomePlanet_y_train)\n",
        "output = clf.predict(HomePlanet_x_test)"
      ]
    },
    {
      "cell_type": "code",
      "execution_count": null,
      "id": "249ab8bb",
      "metadata": {
        "id": "249ab8bb"
      },
      "outputs": [],
      "source": [
        "from numpy import array\n",
        "rm_slice = train_data['HomePlanet'].copy()\n",
        "rm_slice[array(rm_slice) == 0] = output\n",
        "train_data['HomePlanet'] = rm_slice\n",
        "train_data['HomePlanet'] = train_data['HomePlanet'].astype(int)"
      ]
    },
    {
      "cell_type": "code",
      "execution_count": null,
      "id": "ace8a0f5",
      "metadata": {
        "id": "ace8a0f5"
      },
      "outputs": [],
      "source": [
        "test_data.drop(['Cabin'], axis = 1, inplace=True)"
      ]
    },
    {
      "cell_type": "code",
      "execution_count": null,
      "id": "5fa90d80",
      "metadata": {
        "id": "5fa90d80"
      },
      "outputs": [],
      "source": [
        "test_data['HomePlanet'].fillna(0, inplace = True)"
      ]
    },
    {
      "cell_type": "code",
      "execution_count": null,
      "id": "9f45df98",
      "metadata": {
        "id": "9f45df98"
      },
      "outputs": [],
      "source": [
        "#converting the testdata homeplanet to 0\n",
        "HomePlanet_test = test_data[test_data['HomePlanet'] == 0]\n",
        "HomePlanet_train = test_data[test_data['HomePlanet'] != 0]\n",
        "HomePlanet_y_train = HomePlanet_train[\"HomePlanet\"]\n",
        "HomePlanet_x_train = HomePlanet_train.drop([\"HomePlanet\",'CryoSleep', 'VIP', 'Destination'], axis=1)\n",
        "HomePlanet_x_test  = HomePlanet_test.drop([\"HomePlanet\",'CryoSleep', 'VIP', 'Destination'], axis=1)"
      ]
    },
    {
      "cell_type": "code",
      "execution_count": null,
      "id": "66bd6a71",
      "metadata": {
        "id": "66bd6a71"
      },
      "outputs": [],
      "source": [
        "from sklearn.linear_model import LogisticRegression\n",
        "from sklearn import tree\n",
        "\n",
        "clf= tree.DecisionTreeClassifier()\n",
        "clf.fit(HomePlanet_x_train, HomePlanet_y_train)\n",
        "output = clf.predict(HomePlanet_x_test)"
      ]
    },
    {
      "cell_type": "code",
      "execution_count": null,
      "id": "71500e21",
      "metadata": {
        "id": "71500e21"
      },
      "outputs": [],
      "source": [
        "from numpy import array\n",
        "rm_slice = test_data['HomePlanet'].copy()\n",
        "#print((array(rm_slice) == 0))\n",
        "rm_slice[array(rm_slice) == 0] = output\n",
        "test_data['HomePlanet'] = rm_slice\n",
        "test_data['HomePlanet'] = test_data['HomePlanet'].astype(int)"
      ]
    },
    {
      "cell_type": "code",
      "execution_count": null,
      "id": "3731d87c",
      "metadata": {
        "colab": {
          "base_uri": "https://localhost:8080/"
        },
        "id": "3731d87c",
        "outputId": "113cccff-f57b-4279-e608-d6e9fb8e1ea0"
      },
      "outputs": [
        {
          "data": {
            "text/plain": [
              "1    4715\n",
              "2    2171\n",
              "3    1807\n",
              "Name: HomePlanet, dtype: int64"
            ]
          },
          "execution_count": 270,
          "metadata": {},
          "output_type": "execute_result"
        }
      ],
      "source": [
        "train_data['HomePlanet'].value_counts()"
      ]
    },
    {
      "cell_type": "code",
      "execution_count": null,
      "id": "4a18fc43",
      "metadata": {
        "id": "4a18fc43"
      },
      "outputs": [],
      "source": [
        "def transform():\n",
        "    slice1 = test_data['CryoSleep'].copy()\n",
        "    HomePlanet_test = test_data[np.isnan(slice1)]\n",
        "    HomePlanet_train = test_data[np.invert(np.isnan(slice1))]\n",
        "    HomePlanet_y_train = HomePlanet_train[\"CryoSleep\"]\n",
        "    HomePlanet_x_train = HomePlanet_train.drop(['CryoSleep', 'VIP', 'Destination'], axis=1)\n",
        "    HomePlanet_x_test  = HomePlanet_test.drop(['CryoSleep', 'VIP', 'Destination'], axis=1)\n",
        "    clf.fit(HomePlanet_x_train, HomePlanet_y_train)\n",
        "    output = clf.predict(HomePlanet_x_test)\n",
        "    rm_slice = test_data['CryoSleep'].copy()\n",
        "    rm_slice[np.isnan(rm_slice)] = output\n",
        "    test_data['CryoSleep'] = rm_slice\n",
        "    test_data['CryoSleep'] = test_data['CryoSleep'].astype(int)"
      ]
    },
    {
      "cell_type": "code",
      "execution_count": null,
      "id": "ad1d23ee",
      "metadata": {
        "id": "ad1d23ee"
      },
      "outputs": [],
      "source": [
        "transform()"
      ]
    },
    {
      "cell_type": "code",
      "execution_count": null,
      "id": "28402d3c",
      "metadata": {
        "id": "28402d3c"
      },
      "outputs": [],
      "source": [
        "def transform():\n",
        "    slice1 = train_data['CryoSleep'].copy()\n",
        "    HomePlanet_test = train_data[np.isnan(slice1)]\n",
        "    HomePlanet_train = train_data[np.invert(np.isnan(slice1))]\n",
        "    HomePlanet_y_train = HomePlanet_train[\"CryoSleep\"]\n",
        "    HomePlanet_x_train = HomePlanet_train.drop(['CryoSleep', 'VIP', 'Destination' ], axis=1)\n",
        "    HomePlanet_x_test  = HomePlanet_test.drop(['CryoSleep', 'VIP', 'Destination'], axis=1)\n",
        "    clf.fit(HomePlanet_x_train, HomePlanet_y_train)\n",
        "    output = clf.predict(HomePlanet_x_test)\n",
        "    rm_slice = train_data['CryoSleep'].copy()\n",
        "    rm_slice[np.isnan(rm_slice)] = output\n",
        "    train_data['CryoSleep'] = rm_slice\n",
        "    train_data['CryoSleep'] = train_data['CryoSleep'].astype(int)"
      ]
    },
    {
      "cell_type": "code",
      "execution_count": null,
      "id": "0f97bc5d",
      "metadata": {
        "id": "0f97bc5d"
      },
      "outputs": [],
      "source": [
        "transform()"
      ]
    },
    {
      "cell_type": "code",
      "execution_count": null,
      "id": "19656a1e",
      "metadata": {
        "id": "19656a1e"
      },
      "outputs": [],
      "source": [
        "def transform():\n",
        "    slice1 = test_data['VIP'].copy()\n",
        "    HomePlanet_test = test_data[np.isnan(slice1)]\n",
        "    HomePlanet_train = test_data[np.invert(np.isnan(slice1))]\n",
        "    HomePlanet_y_train = HomePlanet_train[\"VIP\"]\n",
        "    HomePlanet_x_train = HomePlanet_train.drop(['VIP', 'Destination'], axis=1)\n",
        "    HomePlanet_x_test  = HomePlanet_test.drop(['VIP', 'Destination'], axis=1)\n",
        "    clf.fit(HomePlanet_x_train, HomePlanet_y_train)\n",
        "    output = clf.predict(HomePlanet_x_test)\n",
        "    rm_slice = test_data['VIP'].copy()\n",
        "    rm_slice[np.isnan(rm_slice)] = output\n",
        "    test_data['VIP'] = rm_slice\n",
        "    test_data['VIP'] = test_data['VIP'].astype(int)"
      ]
    },
    {
      "cell_type": "code",
      "execution_count": null,
      "id": "b41135c1",
      "metadata": {
        "id": "b41135c1"
      },
      "outputs": [],
      "source": [
        "transform()"
      ]
    },
    {
      "cell_type": "code",
      "execution_count": null,
      "id": "f1ebe0d1",
      "metadata": {
        "id": "f1ebe0d1"
      },
      "outputs": [],
      "source": [
        "def transform():\n",
        "    slice1 = train_data['VIP'].copy()\n",
        "    HomePlanet_test = train_data[np.isnan(slice1)]\n",
        "    HomePlanet_train = train_data[np.invert(np.isnan(slice1))]\n",
        "    HomePlanet_y_train = HomePlanet_train[\"VIP\"]\n",
        "    HomePlanet_x_train = HomePlanet_train.drop(['VIP', 'Destination'], axis=1)\n",
        "    HomePlanet_x_test  = HomePlanet_test.drop(['VIP', 'Destination'], axis=1)\n",
        "    clf.fit(HomePlanet_x_train, HomePlanet_y_train)\n",
        "    output = clf.predict(HomePlanet_x_test)\n",
        "    rm_slice = train_data['VIP'].copy()\n",
        "    rm_slice[np.isnan(rm_slice)] = output\n",
        "    train_data['VIP'] = rm_slice\n",
        "    train_data['VIP'] = train_data['VIP'].astype(int)"
      ]
    },
    {
      "cell_type": "code",
      "execution_count": null,
      "id": "ef223d0d",
      "metadata": {
        "id": "ef223d0d"
      },
      "outputs": [],
      "source": [
        "transform()"
      ]
    },
    {
      "cell_type": "code",
      "execution_count": null,
      "id": "fd671b68",
      "metadata": {
        "id": "fd671b68"
      },
      "outputs": [],
      "source": [
        "def transform():\n",
        "    slice1 = train_data['Destination'].copy()\n",
        "    HomePlanet_test = train_data[np.isnan(slice1)]\n",
        "    HomePlanet_train = train_data[np.invert(np.isnan(slice1))]\n",
        "    HomePlanet_y_train = HomePlanet_train[\"Destination\"]\n",
        "    HomePlanet_x_train = HomePlanet_train.drop(['Destination'], axis=1)\n",
        "    HomePlanet_x_test  = HomePlanet_test.drop(['Destination'], axis=1)\n",
        "    clf.fit(HomePlanet_x_train, HomePlanet_y_train)\n",
        "    output = clf.predict(HomePlanet_x_test)\n",
        "    rm_slice = train_data['Destination'].copy()\n",
        "    rm_slice[np.isnan(rm_slice)] = output\n",
        "    train_data['Destination'] = rm_slice\n",
        "    train_data['Destination'] = train_data['Destination'].astype(int)"
      ]
    },
    {
      "cell_type": "code",
      "execution_count": null,
      "id": "c5e542dd",
      "metadata": {
        "id": "c5e542dd"
      },
      "outputs": [],
      "source": [
        "transform()"
      ]
    },
    {
      "cell_type": "code",
      "execution_count": null,
      "id": "2def4f41",
      "metadata": {
        "id": "2def4f41"
      },
      "outputs": [],
      "source": [
        "def transform():\n",
        "    slice1 = test_data['Destination'].copy()\n",
        "    HomePlanet_test = test_data[np.isnan(slice1)]\n",
        "    HomePlanet_train = test_data[np.invert(np.isnan(slice1))]\n",
        "    HomePlanet_y_train = HomePlanet_train[\"Destination\"]\n",
        "    HomePlanet_x_train = HomePlanet_train.drop(['Destination'], axis=1)\n",
        "    HomePlanet_x_test  = HomePlanet_test.drop(['Destination'], axis=1)\n",
        "    clf.fit(HomePlanet_x_train, HomePlanet_y_train)\n",
        "    output = clf.predict(HomePlanet_x_test)\n",
        "    rm_slice = test_data['Destination'].copy()\n",
        "    rm_slice[np.isnan(rm_slice)] = output\n",
        "    test_data['Destination'] = rm_slice\n",
        "    test_data['Destination'] = test_data['Destination'].astype(int)"
      ]
    },
    {
      "cell_type": "code",
      "execution_count": null,
      "id": "167dc417",
      "metadata": {
        "id": "167dc417"
      },
      "outputs": [],
      "source": [
        "transform()"
      ]
    },
    {
      "cell_type": "code",
      "execution_count": null,
      "id": "fcdd6b62",
      "metadata": {
        "colab": {
          "base_uri": "https://localhost:8080/"
        },
        "id": "fcdd6b62",
        "outputId": "85114330-2c22-4a95-9c21-ff7b0217d63f"
      },
      "outputs": [
        {
          "data": {
            "text/plain": [
              "False"
            ]
          },
          "execution_count": 283,
          "metadata": {},
          "output_type": "execute_result"
        }
      ],
      "source": [
        "test_data['Destination'].isnull().values.any()"
      ]
    },
    {
      "cell_type": "code",
      "execution_count": null,
      "id": "05cb6a4d",
      "metadata": {
        "colab": {
          "base_uri": "https://localhost:8080/"
        },
        "id": "05cb6a4d",
        "outputId": "36b13275-4e42-4321-c61e-7974a7a6e52b",
        "scrolled": true
      },
      "outputs": [
        {
          "name": "stdout",
          "output_type": "stream",
          "text": [
            "              Total  Percentage\n",
            "port              0         0.0\n",
            "num               0         0.0\n",
            "deck              0         0.0\n",
            "VRDeck            0         0.0\n",
            "Spa               0         0.0\n",
            "ShoppingMall      0         0.0\n",
            "FoodCourt         0         0.0\n",
            "RoomService       0         0.0\n",
            "VIP               0         0.0\n",
            "Age               0         0.0\n",
            "Destination       0         0.0\n",
            "CryoSleep         0         0.0\n",
            "HomePlanet        0         0.0\n",
            "PassengerId       0         0.0\n"
          ]
        }
      ],
      "source": [
        "find_null_count(test_data)\n",
        "# all the null values are replaced with predicted and random values."
      ]
    },
    {
      "cell_type": "code",
      "execution_count": null,
      "id": "b22f185e",
      "metadata": {
        "colab": {
          "base_uri": "https://localhost:8080/"
        },
        "id": "b22f185e",
        "outputId": "a0482ae2-cb12-4bd4-fc41-fbd1ad81f9f1",
        "scrolled": true
      },
      "outputs": [
        {
          "name": "stderr",
          "output_type": "stream",
          "text": [
            "<ipython-input-285-e97b5b2204cf>:8: SettingWithCopyWarning: \n",
            "A value is trying to be set on a copy of a slice from a DataFrame\n",
            "\n",
            "See the caveats in the documentation: https://pandas.pydata.org/pandas-docs/stable/user_guide/indexing.html#returning-a-view-versus-a-copy\n",
            "  dataset['group'][row] = dataset['PassengerId'][row][:dataset['PassengerId'][row].index('_')]\n",
            "<ipython-input-285-e97b5b2204cf>:9: SettingWithCopyWarning: \n",
            "A value is trying to be set on a copy of a slice from a DataFrame\n",
            "\n",
            "See the caveats in the documentation: https://pandas.pydata.org/pandas-docs/stable/user_guide/indexing.html#returning-a-view-versus-a-copy\n",
            "  dataset['num_in_group'][row] = dataset['PassengerId'][row][dataset['PassengerId'][row].index('_') + 1:]\n"
          ]
        },
        {
          "data": {
            "text/plain": [
              "0       1\n",
              "1       1\n",
              "2       1\n",
              "3       1\n",
              "4       1\n",
              "       ..\n",
              "4272    2\n",
              "4273    1\n",
              "4274    1\n",
              "4275    1\n",
              "4276    1\n",
              "Name: num_in_group, Length: 4277, dtype: int64"
            ]
          },
          "execution_count": 285,
          "metadata": {},
          "output_type": "execute_result"
        }
      ],
      "source": [
        "#we can make passengerID in two different features.\n",
        "data = [train_data, test_data]\n",
        "\n",
        "for dataset in data:\n",
        "    dataset['group']  = dataset['PassengerId'].copy()\n",
        "    dataset['num_in_group']  = dataset['PassengerId'].copy()\n",
        "    for row in range(len(dataset[\"PassengerId\"])):  \n",
        "        dataset['group'][row] = dataset['PassengerId'][row][:dataset['PassengerId'][row].index('_')]\n",
        "        dataset['num_in_group'][row] = dataset['PassengerId'][row][dataset['PassengerId'][row].index('_') + 1:]\n",
        "    dataset['group'] = dataset['group'].astype(int)\n",
        "    dataset['num_in_group'] = dataset['num_in_group'].astype(int)\n",
        "\n",
        "test_data['num_in_group']"
      ]
    },
    {
      "cell_type": "code",
      "execution_count": null,
      "id": "3ffa9c2f",
      "metadata": {
        "id": "3ffa9c2f",
        "scrolled": true
      },
      "outputs": [],
      "source": [
        "train_data.drop(['PassengerId'],axis=1, inplace=True)"
      ]
    },
    {
      "cell_type": "code",
      "execution_count": null,
      "id": "301e60d1",
      "metadata": {
        "id": "301e60d1"
      },
      "outputs": [],
      "source": [
        "output_data = test_data['PassengerId']\n",
        "df = pd.DataFrame(output_data)"
      ]
    },
    {
      "cell_type": "code",
      "execution_count": null,
      "id": "7baefaf1",
      "metadata": {
        "id": "7baefaf1"
      },
      "outputs": [],
      "source": [
        "test_data.drop(['PassengerId'],axis=1, inplace=True)"
      ]
    },
    {
      "cell_type": "code",
      "execution_count": null,
      "id": "7d32a184",
      "metadata": {
        "colab": {
          "base_uri": "https://localhost:8080/"
        },
        "id": "7d32a184",
        "outputId": "fca3f97d-238c-4242-e913-75f4b71937bf",
        "scrolled": true
      },
      "outputs": [
        {
          "name": "stdout",
          "output_type": "stream",
          "text": [
            "<class 'pandas.core.frame.DataFrame'>\n",
            "RangeIndex: 4277 entries, 0 to 4276\n",
            "Data columns (total 15 columns):\n",
            " #   Column        Non-Null Count  Dtype \n",
            "---  ------        --------------  ----- \n",
            " 0   HomePlanet    4277 non-null   int64 \n",
            " 1   CryoSleep     4277 non-null   int64 \n",
            " 2   Destination   4277 non-null   int64 \n",
            " 3   Age           4277 non-null   int64 \n",
            " 4   VIP           4277 non-null   int64 \n",
            " 5   RoomService   4277 non-null   int64 \n",
            " 6   FoodCourt     4277 non-null   int64 \n",
            " 7   ShoppingMall  4277 non-null   int64 \n",
            " 8   Spa           4277 non-null   int64 \n",
            " 9   VRDeck        4277 non-null   int64 \n",
            " 10  deck          4277 non-null   int64 \n",
            " 11  num           4277 non-null   object\n",
            " 12  port          4277 non-null   int64 \n",
            " 13  group         4277 non-null   int64 \n",
            " 14  num_in_group  4277 non-null   int64 \n",
            "dtypes: int64(14), object(1)\n",
            "memory usage: 501.3+ KB\n"
          ]
        }
      ],
      "source": [
        "test_data.info()\n",
        "test_data['num'] = test_data['num'].astype(int)"
      ]
    },
    {
      "cell_type": "code",
      "execution_count": null,
      "id": "81da630a",
      "metadata": {
        "colab": {
          "base_uri": "https://localhost:8080/",
          "height": 928
        },
        "id": "81da630a",
        "outputId": "3547394e-5dd5-4c1c-c871-3fcca4c15f2a",
        "scrolled": true
      },
      "outputs": [
        {
          "data": {
            "image/png": "[encoded data removed]",
            "text/plain": [
              "<Figure size 1080x1080 with 2 Axes>"
            ]
          },
          "metadata": {
            "needs_background": "light"
          },
          "output_type": "display_data"
        }
      ],
      "source": [
        "corr = train_data.corr()\n",
        "f, ax = plt.subplots(figsize=(15, 15))\n",
        "ax = sns.heatmap(corr, annot=True)"
      ]
    },
    {
      "cell_type": "code",
      "execution_count": null,
      "id": "11eb9f52",
      "metadata": {
        "id": "11eb9f52"
      },
      "outputs": [],
      "source": [
        "#now training random forest as it has feature importance\n",
        "\n",
        "from sklearn.model_selection import train_test_split\n",
        "X = train_data.drop(['Transported'], axis = 1)\n",
        "y = train_data['Transported']\n",
        "X_train, X_test, y_train, y_test = train_test_split(X, y, test_size=0.25, random_state=42)"
      ]
    },
    {
      "cell_type": "code",
      "execution_count": null,
      "id": "00bbd45a",
      "metadata": {
        "colab": {
          "base_uri": "https://localhost:8080/"
        },
        "id": "00bbd45a",
        "outputId": "b3556304-9678-4146-8e55-5b4cd3fcc28d"
      },
      "outputs": [
        {
          "data": {
            "text/plain": [
              "5623    False\n",
              "5253     True\n",
              "478      True\n",
              "1352     True\n",
              "5344     True\n",
              "        ...  \n",
              "5734     True\n",
              "5191    False\n",
              "5390    False\n",
              "860     False\n",
              "7270    False\n",
              "Name: Transported, Length: 6519, dtype: bool"
            ]
          },
          "execution_count": 292,
          "metadata": {},
          "output_type": "execute_result"
        }
      ],
      "source": [
        "#type(np.array(y_train).reshape(-1,1))\n",
        "y_train"
      ]
    },
    {
      "cell_type": "code",
      "execution_count": null,
      "id": "52a07489",
      "metadata": {
        "colab": {
          "base_uri": "https://localhost:8080/"
        },
        "id": "52a07489",
        "outputId": "d61db4fa-9b22-4660-962a-524bbe47c8d6"
      },
      "outputs": [
        {
          "data": {
            "text/plain": [
              "0.797148114075437"
            ]
          },
          "execution_count": 293,
          "metadata": {},
          "output_type": "execute_result"
        }
      ],
      "source": [
        "from sklearn.ensemble import RandomForestClassifier\n",
        "from sklearn.metrics import accuracy_score\n",
        "model = RandomForestClassifier()\n",
        "model.fit(X_train, y_train)\n",
        "accuracy_score(y_test, model.predict(X_test))   #model.score and accuracy_score are same"
      ]
    },
    {
      "cell_type": "code",
      "execution_count": null,
      "id": "11f8c1ab",
      "metadata": {
        "id": "11f8c1ab"
      },
      "outputs": [],
      "source": [
        "prediction = model.predict(test_data)\n",
        "df[\"Transported\"] = prediction\n",
        "df.to_csv('mycsv.csv', sep = ',', header=['PassengerId', 'Transported'], index=False)"
      ]
    },
    {
      "cell_type": "code",
      "execution_count": null,
      "id": "9d99f5f2",
      "metadata": {
        "colab": {
          "base_uri": "https://localhost:8080/"
        },
        "id": "9d99f5f2",
        "outputId": "ba21e1c7-b19f-4772-a7e0-0e37e715b9d6"
      },
      "outputs": [
        {
          "data": {
            "text/plain": [
              "array([False, False,  True, ...,  True,  True, False])"
            ]
          },
          "execution_count": 295,
          "metadata": {},
          "output_type": "execute_result"
        }
      ],
      "source": [
        "prediction\n"
      ]
    },
    {
      "cell_type": "code",
      "execution_count": null,
      "id": "ec13c386",
      "metadata": {
        "id": "ec13c386"
      },
      "outputs": [],
      "source": [
        "#lets normlaize the values ans check the score.\n",
        "from sklearn.preprocessing import StandardScaler\n",
        "\n",
        "scaler = StandardScaler()\n",
        "X_train_tr = scaler.fit_transform(X_train)"
      ]
    },
    {
      "cell_type": "code",
      "execution_count": null,
      "id": "5c93b006",
      "metadata": {
        "colab": {
          "base_uri": "https://localhost:8080/"
        },
        "id": "5c93b006",
        "outputId": "1b647dac-7a72-4fa8-94e9-537d16ddc922"
      },
      "outputs": [
        {
          "data": {
            "text/plain": [
              "(0.7989880404783809, 1.0)"
            ]
          },
          "execution_count": 297,
          "metadata": {},
          "output_type": "execute_result"
        }
      ],
      "source": [
        "model = RandomForestClassifier()\n",
        "model.fit(X_train, y_train)\n",
        "X_test_tr = scaler.transform(X_test)\n",
        "y_pred = model.predict(X_test)\n",
        "accuracy_score(y_test, model.predict(X_test)), accuracy_score(y_train, model.predict(X_train))"
      ]
    },
    {
      "cell_type": "code",
      "execution_count": null,
      "id": "67a46594",
      "metadata": {
        "colab": {
          "base_uri": "https://localhost:8080/"
        },
        "id": "67a46594",
        "outputId": "f1ba19c9-aa9f-4be4-ab98-6ea73244fa06"
      },
      "outputs": [
        {
          "data": {
            "text/plain": [
              "((2174,), (2174,))"
            ]
          },
          "execution_count": 298,
          "metadata": {},
          "output_type": "execute_result"
        }
      ],
      "source": [
        "np.shape(np.array(y_test)), np.shape(y_pred)\n",
        "#np,array(y_test)-y_pred"
      ]
    },
    {
      "cell_type": "code",
      "execution_count": null,
      "id": "bc02c648",
      "metadata": {
        "id": "bc02c648",
        "outputId": "7160512d-7bfc-4307-9ef5-da248ed8b588"
      },
      "outputs": [
        {
          "ename": "ModuleNotFoundError",
          "evalue": "No module named 'xgboost'",
          "output_type": "error",
          "traceback": [
            "\u001b[0;31m---------------------------------------------------------------------------\u001b[0m",
            "\u001b[0;31mModuleNotFoundError\u001b[0m                       Traceback (most recent call last)",
            "\u001b[0;32m<ipython-input-299-30fe3c880306>\u001b[0m in \u001b[0;36m<module>\u001b[0;34m\u001b[0m\n\u001b[0;32m----> 1\u001b[0;31m \u001b[0;32mimport\u001b[0m \u001b[0mxgboost\u001b[0m \u001b[0;32mas\u001b[0m \u001b[0mxgb\u001b[0m\u001b[0;34m\u001b[0m\u001b[0;34m\u001b[0m\u001b[0m\n\u001b[0m\u001b[1;32m      2\u001b[0m \u001b[0mdata_dmatrix\u001b[0m \u001b[0;34m=\u001b[0m \u001b[0mxgb\u001b[0m\u001b[0;34m.\u001b[0m\u001b[0mDMatrix\u001b[0m\u001b[0;34m(\u001b[0m\u001b[0mdata\u001b[0m\u001b[0;34m=\u001b[0m\u001b[0mX_train\u001b[0m\u001b[0;34m,\u001b[0m\u001b[0mlabel\u001b[0m\u001b[0;34m=\u001b[0m\u001b[0my_train\u001b[0m\u001b[0;34m)\u001b[0m\u001b[0;34m\u001b[0m\u001b[0;34m\u001b[0m\u001b[0m\n\u001b[1;32m      3\u001b[0m xg_clf = xgb.XGBClassifier(objective ='reg:squarederror', colsample_bytree = 0.3, learning_rate = 0.1,\n\u001b[1;32m      4\u001b[0m                 max_depth = 5, alpha = 10, n_estimators = 10,use_label_encoder=False)\n",
            "\u001b[0;31mModuleNotFoundError\u001b[0m: No module named 'xgboost'"
          ]
        }
      ],
      "source": [
        "#import xgboost as xgb\n",
        "#data_dmatrix = xgb.DMatrix(data=X_train,label=y_train)\n",
        "#xg_clf = xgb.XGBClassifier(objective ='reg:squarederror', colsample_bytree = 0.3, learning_rate = 0.1,\n",
        "                #max_depth = 5, alpha = 10, n_estimators = 10,use_label_encoder=False)"
      ]
    },
    {
      "cell_type": "code",
      "execution_count": null,
      "id": "4319835d",
      "metadata": {
        "id": "4319835d"
      },
      "outputs": [],
      "source": [
        "#xg_clf.fit(X_train,y_train)\n",
        "#accuracy_score(y_test, xg_clf.predict(X_test))"
      ]
    },
    {
      "cell_type": "code",
      "execution_count": null,
      "id": "06747544",
      "metadata": {
        "id": "06747544"
      },
      "outputs": [],
      "source": [
        "#xg_clf.predict(X_train)"
      ]
    },
    {
      "cell_type": "code",
      "execution_count": null,
      "id": "95e2a5cb",
      "metadata": {
        "id": "95e2a5cb"
      },
      "outputs": [],
      "source": [
        "#cheking for overfitting\n",
        "#from sklearn.metrics import mean_squared_error\n",
        "#mean_squared_error(np.array(y_test), y_pred)\n",
        "# as this is a classification error, there is no point using mean_squared_error"
      ]
    },
    {
      "cell_type": "code",
      "execution_count": null,
      "id": "42a987b0",
      "metadata": {
        "colab": {
          "base_uri": "https://localhost:8080/"
        },
        "id": "42a987b0",
        "outputId": "e8c127d8-8c45-48c4-f53e-c7dd382c982c",
        "scrolled": true
      },
      "outputs": [
        {
          "name": "stdout",
          "output_type": "stream",
          "text": [
            "Scores: [0.79907975 0.82515337 0.80521472 0.8006135  0.81441718 0.78527607\n",
            " 0.82055215 0.78680982 0.79907975 0.79569892]\n",
            "Mean: 0.8031895243749586\n",
            "Standard Deviation: 0.012648102593481696\n"
          ]
        }
      ],
      "source": [
        "from sklearn.model_selection import cross_val_score\n",
        "rf = RandomForestClassifier(n_estimators=100)\n",
        "scores = cross_val_score(rf, X_train, y_train, cv=10, scoring = \"accuracy\")\n",
        "print(\"Scores:\", scores)\n",
        "print(\"Mean:\", scores.mean())\n",
        "print(\"Standard Deviation:\", scores.std())"
      ]
    },
    {
      "cell_type": "code",
      "execution_count": null,
      "id": "94d47805",
      "metadata": {
        "colab": {
          "base_uri": "https://localhost:8080/",
          "height": 551
        },
        "id": "94d47805",
        "outputId": "cdb62740-2f72-4cc8-945e-1ffeb0a3fb08"
      },
      "outputs": [
        {
          "data": {
            "text/html": [
              "<div>\n",
              "<style scoped>\n",
              "    .dataframe tbody tr th:only-of-type {\n",
              "        vertical-align: middle;\n",
              "    }\n",
              "\n",
              "    .dataframe tbody tr th {\n",
              "        vertical-align: top;\n",
              "    }\n",
              "\n",
              "    .dataframe thead th {\n",
              "        text-align: right;\n",
              "    }\n",
              "</style>\n",
              "<table border=\"1\" class=\"dataframe\">\n",
              "  <thead>\n",
              "    <tr style=\"text-align: right;\">\n",
              "      <th></th>\n",
              "      <th>importance</th>\n",
              "    </tr>\n",
              "    <tr>\n",
              "      <th>feature</th>\n",
              "      <th></th>\n",
              "    </tr>\n",
              "  </thead>\n",
              "  <tbody>\n",
              "    <tr>\n",
              "      <th>num</th>\n",
              "      <td>0.112</td>\n",
              "    </tr>\n",
              "    <tr>\n",
              "      <th>group</th>\n",
              "      <td>0.107</td>\n",
              "    </tr>\n",
              "    <tr>\n",
              "      <th>Spa</th>\n",
              "      <td>0.103</td>\n",
              "    </tr>\n",
              "    <tr>\n",
              "      <th>RoomService</th>\n",
              "      <td>0.099</td>\n",
              "    </tr>\n",
              "    <tr>\n",
              "      <th>Age</th>\n",
              "      <td>0.097</td>\n",
              "    </tr>\n",
              "    <tr>\n",
              "      <th>VRDeck</th>\n",
              "      <td>0.093</td>\n",
              "    </tr>\n",
              "    <tr>\n",
              "      <th>CryoSleep</th>\n",
              "      <td>0.085</td>\n",
              "    </tr>\n",
              "    <tr>\n",
              "      <th>FoodCourt</th>\n",
              "      <td>0.079</td>\n",
              "    </tr>\n",
              "    <tr>\n",
              "      <th>ShoppingMall</th>\n",
              "      <td>0.070</td>\n",
              "    </tr>\n",
              "    <tr>\n",
              "      <th>deck</th>\n",
              "      <td>0.048</td>\n",
              "    </tr>\n",
              "    <tr>\n",
              "      <th>HomePlanet</th>\n",
              "      <td>0.036</td>\n",
              "    </tr>\n",
              "    <tr>\n",
              "      <th>num_in_group</th>\n",
              "      <td>0.026</td>\n",
              "    </tr>\n",
              "    <tr>\n",
              "      <th>port</th>\n",
              "      <td>0.022</td>\n",
              "    </tr>\n",
              "    <tr>\n",
              "      <th>Destination</th>\n",
              "      <td>0.020</td>\n",
              "    </tr>\n",
              "    <tr>\n",
              "      <th>VIP</th>\n",
              "      <td>0.002</td>\n",
              "    </tr>\n",
              "  </tbody>\n",
              "</table>\n",
              "</div>"
            ],
            "text/plain": [
              "              importance\n",
              "feature                 \n",
              "num                0.112\n",
              "group              0.107\n",
              "Spa                0.103\n",
              "RoomService        0.099\n",
              "Age                0.097\n",
              "VRDeck             0.093\n",
              "CryoSleep          0.085\n",
              "FoodCourt          0.079\n",
              "ShoppingMall       0.070\n",
              "deck               0.048\n",
              "HomePlanet         0.036\n",
              "num_in_group       0.026\n",
              "port               0.022\n",
              "Destination        0.020\n",
              "VIP                0.002"
            ]
          },
          "execution_count": 301,
          "metadata": {},
          "output_type": "execute_result"
        }
      ],
      "source": [
        "importances = pd.DataFrame({'feature':X_train.columns,'importance':np.round(model.feature_importances_,3)})\n",
        "importances = importances.sort_values('importance',ascending=False).set_index('feature')\n",
        "importances.head(15)"
      ]
    },
    {
      "cell_type": "code",
      "execution_count": null,
      "id": "98181aaa",
      "metadata": {
        "colab": {
          "base_uri": "https://localhost:8080/",
          "height": 358
        },
        "id": "98181aaa",
        "outputId": "8e265db3-ae8a-4c1f-ab24-3ce5fdcc5e35",
        "scrolled": true
      },
      "outputs": [
        {
          "data": {
            "text/plain": [
              "<matplotlib.axes._subplots.AxesSubplot at 0x7fc9bb9b2d00>"
            ]
          },
          "execution_count": 302,
          "metadata": {},
          "output_type": "execute_result"
        },
        {
          "data": {
            "image/png": "[encoded data removed]",
            "text/plain": [
              "<Figure size 432x288 with 1 Axes>"
            ]
          },
          "metadata": {
            "needs_background": "light"
          },
          "output_type": "display_data"
        }
      ],
      "source": [
        "importances.plot.bar()"
      ]
    },
    {
      "cell_type": "code",
      "execution_count": null,
      "id": "a841cd7c",
      "metadata": {
        "id": "a841cd7c"
      },
      "outputs": [],
      "source": [
        "#prediction_xg = xg_clf.predict(test_data)\n",
        "#df[\"Transported\"] = prediction_xg.astype(bool)\n",
        "#df.to_csv('mycsv.csv', sep = ',', header=['PassengerId', 'Transported'], index=False)"
      ]
    },
    {
      "cell_type": "code",
      "execution_count": null,
      "id": "623f954d",
      "metadata": {
        "colab": {
          "base_uri": "https://localhost:8080/"
        },
        "id": "623f954d",
        "outputId": "77c4d5c1-cf9c-4a70-bfaf-b46fcb10b271"
      },
      "outputs": [
        {
          "data": {
            "text/plain": [
              "array([[2691,  542],\n",
              "       [ 737, 2549]])"
            ]
          },
          "execution_count": 305,
          "metadata": {},
          "output_type": "execute_result"
        }
      ],
      "source": [
        "#evaluating the model for overfitting.\n",
        "#https://towardsdatascience.com/what-is-out-of-bag-oob-score-in-random-forest-a7fa23d710 this link has explanation for obb score.\n",
        "\n",
        "from sklearn.model_selection import cross_val_predict\n",
        "from sklearn.metrics import confusion_matrix\n",
        "from sklearn.metrics import plot_confusion_matrix\n",
        "pred = cross_val_predict(model, X_train, y_train, cv=3)\n",
        "confusion_matrix(y_train, pred)\n",
        "#y_train.sum(), len(y_train), pred.sum(), len(pred)\n"
      ]
    },
    {
      "cell_type": "code",
      "execution_count": null,
      "id": "741ceaa5",
      "metadata": {
        "colab": {
          "base_uri": "https://localhost:8080/",
          "height": 354
        },
        "id": "741ceaa5",
        "outputId": "70b6b20d-e077-44af-c703-5a68eb55fae2",
        "scrolled": true
      },
      "outputs": [
        {
          "data": {
            "text/plain": [
              "<sklearn.metrics._plot.confusion_matrix.ConfusionMatrixDisplay at 0x7fc9bb67a670>"
            ]
          },
          "execution_count": 306,
          "metadata": {},
          "output_type": "execute_result"
        },
        {
          "data": {
            "image/png": "[encoded data removed]",
            "text/plain": [
              "<Figure size 432x288 with 2 Axes>"
            ]
          },
          "metadata": {
            "needs_background": "light"
          },
          "output_type": "display_data"
        }
      ],
      "source": [
        "plot_confusion_matrix(model, X_test, y_test)"
      ]
    },
    {
      "cell_type": "code",
      "execution_count": null,
      "id": "d1ae5e53",
      "metadata": {
        "colab": {
          "base_uri": "https://localhost:8080/"
        },
        "id": "d1ae5e53",
        "outputId": "05bc951b-d3f3-4823-e10c-5995d8b53c64",
        "scrolled": true
      },
      "outputs": [
        {
          "name": "stdout",
          "output_type": "stream",
          "text": [
            "Precision: 0.8246522161112908\n",
            "Recall: 0.7757151552038953\n"
          ]
        }
      ],
      "source": [
        "from sklearn.metrics import precision_score, recall_score\n",
        "\n",
        "print(\"Precision:\", precision_score(y_train, pred))\n",
        "print(\"Recall:\",recall_score(y_train, pred))"
      ]
    },
    {
      "cell_type": "code",
      "execution_count": null,
      "id": "a784a946",
      "metadata": {
        "colab": {
          "base_uri": "https://localhost:8080/"
        },
        "id": "a784a946",
        "outputId": "af8d501c-e809-45d8-f573-ff8a09f26ff7"
      },
      "outputs": [
        {
          "data": {
            "text/plain": [
              "0.7994354712247138"
            ]
          },
          "execution_count": 308,
          "metadata": {},
          "output_type": "execute_result"
        }
      ],
      "source": [
        "from sklearn.metrics import f1_score\n",
        "f1_score(y_train, pred)"
      ]
    },
    {
      "cell_type": "markdown",
      "id": "ac9e3785",
      "metadata": {
        "id": "ac9e3785"
      },
      "source": [
        "Don’t use validation and oob together when evaluating your model. Its like apples and oranges so pick one tune your forest by the increase or decreases based on either oob or validation.\n",
        "\n",
        "Oob particularly helps when we can’t afford to hold out a valdation set. For example I am working with patient data which has 257 observations. If I were to leave 20% of this data for validation this might cause some of the relationships in my data to be damaged. But given enough data like groceries it’s feasible to work with a subset."
      ]
    },
    {
      "cell_type": "code",
      "execution_count": null,
      "id": "0fe02b97",
      "metadata": {
        "colab": {
          "base_uri": "https://localhost:8080/"
        },
        "id": "0fe02b97",
        "outputId": "fa16cc43-6d11-49d8-81ac-48d5480111d9"
      },
      "outputs": [
        {
          "data": {
            "text/plain": [
              "(0.9463107838625556, 0.7943882244710212)"
            ]
          },
          "execution_count": 309,
          "metadata": {},
          "output_type": "execute_result"
        }
      ],
      "source": [
        "random_forest = RandomForestClassifier(criterion = \"entropy\", \n",
        "                                       min_samples_leaf = 5, \n",
        "                                       min_samples_split = 2,   \n",
        "                                       n_estimators=400, \n",
        "                                       max_features='auto', \n",
        "                                       oob_score=True, \n",
        "                                       random_state=1, \n",
        "                                       n_jobs=-1)\n",
        "\n",
        "random_forest.fit(X_train, y_train)\n",
        "Y_prediction = random_forest.predict(X_test)\n",
        "\n",
        "random_forest.score(X_train, y_train), accuracy_score(y_test, Y_prediction)"
      ]
    },
    {
      "cell_type": "code",
      "execution_count": null,
      "id": "8ae169fc",
      "metadata": {
        "id": "8ae169fc",
        "outputId": "2752b241-06ce-4e76-c355-2cc3f2c58638"
      },
      "outputs": [
        {
          "name": "stderr",
          "output_type": "stream",
          "text": [
            "/usr/lib/python3/dist-packages/joblib/externals/loky/process_executor.py:703: UserWarning: A worker stopped while some jobs were given to the executor. This can be caused by a too short worker timeout or by a memory leak.\n",
            "  warnings.warn(\n"
          ]
        },
        {
          "ename": "AttributeError",
          "evalue": "'GridSearchCV' object has no attribute 'bestpar'",
          "output_type": "error",
          "traceback": [
            "\u001b[0;31m---------------------------------------------------------------------------\u001b[0m",
            "\u001b[0;31mAttributeError\u001b[0m                            Traceback (most recent call last)",
            "\u001b[0;32m<ipython-input-310-dbb485e57ab9>\u001b[0m in \u001b[0;36m<module>\u001b[0;34m\u001b[0m\n\u001b[1;32m      7\u001b[0m \u001b[0mclf\u001b[0m \u001b[0;34m=\u001b[0m \u001b[0mGridSearchCV\u001b[0m\u001b[0;34m(\u001b[0m\u001b[0mestimator\u001b[0m\u001b[0;34m=\u001b[0m\u001b[0mrf\u001b[0m\u001b[0;34m,\u001b[0m \u001b[0mparam_grid\u001b[0m\u001b[0;34m=\u001b[0m\u001b[0mparam_grid\u001b[0m\u001b[0;34m,\u001b[0m \u001b[0mn_jobs\u001b[0m\u001b[0;34m=\u001b[0m\u001b[0;34m-\u001b[0m\u001b[0;36m1\u001b[0m\u001b[0;34m)\u001b[0m\u001b[0;34m\u001b[0m\u001b[0;34m\u001b[0m\u001b[0m\n\u001b[1;32m      8\u001b[0m \u001b[0mclf\u001b[0m\u001b[0;34m.\u001b[0m\u001b[0mfit\u001b[0m\u001b[0;34m(\u001b[0m\u001b[0mX_train\u001b[0m\u001b[0;34m,\u001b[0m \u001b[0my_train\u001b[0m\u001b[0;34m)\u001b[0m\u001b[0;34m\u001b[0m\u001b[0;34m\u001b[0m\u001b[0m\n\u001b[0;32m----> 9\u001b[0;31m \u001b[0mclf\u001b[0m\u001b[0;34m.\u001b[0m\u001b[0mbestpar\u001b[0m\u001b[0;34m\u001b[0m\u001b[0;34m\u001b[0m\u001b[0m\n\u001b[0m",
            "\u001b[0;31mAttributeError\u001b[0m: 'GridSearchCV' object has no attribute 'bestpar'"
          ]
        }
      ],
      "source": [
        "param_grid = { \"criterion\" : [\"gini\", \"entropy\"], \n",
        "            \"min_samples_leaf\" : [1, 5, 10, 25, 50, 70], \n",
        "            \"min_samples_split\" : [2, 4, 10, 12, 16, 18, 25, 35], \n",
        "            \"n_estimators\": [100, 400, 700, 1000, 1500]}\n",
        "from sklearn.model_selection import GridSearchCV, cross_val_score\n",
        "rf = RandomForestClassifier(n_estimators=100, max_features='auto', oob_score=True, random_state=1, n_jobs=-1)\n",
        "clf = GridSearchCV(estimator=rf, param_grid=param_grid, n_jobs=-1)\n",
        "clf.fit(X_train, y_train)\n"
      ]
    },
    {
      "cell_type": "code",
      "execution_count": null,
      "id": "7d6c2c59",
      "metadata": {
        "id": "7d6c2c59",
        "outputId": "b73f22f0-2cb0-49d7-a9e2-ce2558297950"
      },
      "outputs": [
        {
          "data": {
            "text/plain": [
              "{'criterion': 'entropy',\n",
              " 'min_samples_leaf': 5,\n",
              " 'min_samples_split': 2,\n",
              " 'n_estimators': 400}"
            ]
          },
          "execution_count": 312,
          "metadata": {},
          "output_type": "execute_result"
        }
      ],
      "source": [
        "clf.best_params_"
      ]
    },
    {
      "cell_type": "code",
      "execution_count": null,
      "id": "740bd6a1",
      "metadata": {
        "id": "740bd6a1",
        "outputId": "63961f9b-4929-4a39-de0b-d3a9ed65a521"
      },
      "outputs": [
        {
          "data": {
            "text/plain": [
              "(0.8834177021015494, 0.7948482060717571)"
            ]
          },
          "execution_count": 313,
          "metadata": {},
          "output_type": "execute_result"
        }
      ],
      "source": [
        "random_forest = RandomForestClassifier(criterion = \"entropy\", \n",
        "                                       min_samples_leaf = 5, \n",
        "                                       min_samples_split = 2,   \n",
        "                                       n_estimators=400, \n",
        "                                       max_features='auto', \n",
        "                                       oob_score=True, \n",
        "                                       random_state=1, \n",
        "                                       n_jobs=-1)\n",
        "\n",
        "random_forest.fit(X_train, y_train)\n",
        "Y_prediction = random_forest.predict(X_test)\n",
        "\n",
        "random_forest.score(X_train, y_train), accuracy_score(y_test, Y_prediction)"
      ]
    },
    {
      "cell_type": "code",
      "execution_count": null,
      "id": "f4f71d88",
      "metadata": {
        "id": "f4f71d88"
      },
      "outputs": [],
      "source": [
        "prediction = random_forest.predict(test_data)\n",
        "df[\"Transported\"] = prediction\n",
        "df.to_csv('mycsv.csv', sep = ',', header=['PassengerId', 'Transported'], index=False)"
      ]
    },
    {
      "cell_type": "code",
      "execution_count": null,
      "id": "83fd84d8",
      "metadata": {
        "id": "83fd84d8",
        "outputId": "7a847d8d-e453-47a4-a5f0-e0584d3771e7"
      },
      "outputs": [
        {
          "name": "stdout",
          "output_type": "stream",
          "text": [
            "Defaulting to user installation because normal site-packages is not writeable\n",
            "Collecting xgboost\n",
            "  Downloading xgboost-1.6.2-py3-none-manylinux2014_x86_64.whl (255.9 MB)\n",
            "\u001b[2K     \u001b[38;2;114;156;31m━━━━━━━━━━━━━━━━━━━━━━━━━━━━━━━━━━━━━━━\u001b[0m \u001b[32m255.9/255.9 MB\u001b[0m \u001b[31m9.1 MB/s\u001b[0m eta \u001b[36m0:00:00\u001b[0mm eta \u001b[36m0:00:01\u001b[0m[36m0:00:01\u001b[0m\n",
            "\u001b[?25hRequirement already satisfied: numpy in /home/linpeng/.local/lib/python3.8/site-packages (from xgboost) (1.19.5)\n",
            "Requirement already satisfied: scipy in /home/linpeng/.local/lib/python3.8/site-packages (from xgboost) (1.8.1)\n",
            "Installing collected packages: xgboost\n",
            "Successfully installed xgboost-1.6.2\n",
            "--- Logging error ---\n",
            "Traceback (most recent call last):\n",
            "  File \"/home/linpeng/.local/lib/python3.8/site-packages/pip/_internal/utils/logging.py\", line 177, in emit\n",
            "    self.console.print(renderable, overflow=\"ignore\", crop=False, style=style)\n",
            "  File \"/home/linpeng/.local/lib/python3.8/site-packages/pip/_vendor/rich/console.py\", line 1752, in print\n",
            "    extend(render(renderable, render_options))\n",
            "  File \"/home/linpeng/.local/lib/python3.8/site-packages/pip/_vendor/rich/console.py\", line 1390, in render\n",
            "    for render_output in iter_render:\n",
            "  File \"/home/linpeng/.local/lib/python3.8/site-packages/pip/_internal/utils/logging.py\", line 134, in __rich_console__\n",
            "    for line in lines:\n",
            "  File \"/home/linpeng/.local/lib/python3.8/site-packages/pip/_vendor/rich/segment.py\", line 245, in split_lines\n",
            "    for segment in segments:\n",
            "  File \"/home/linpeng/.local/lib/python3.8/site-packages/pip/_vendor/rich/console.py\", line 1368, in render\n",
            "    renderable = rich_cast(renderable)\n",
            "  File \"/home/linpeng/.local/lib/python3.8/site-packages/pip/_vendor/rich/protocol.py\", line 36, in rich_cast\n",
            "    renderable = cast_method()\n",
            "  File \"/home/linpeng/.local/lib/python3.8/site-packages/pip/_internal/self_outdated_check.py\", line 130, in __rich__\n",
            "    pip_cmd = get_best_invocation_for_this_pip()\n",
            "  File \"/home/linpeng/.local/lib/python3.8/site-packages/pip/_internal/utils/entrypoints.py\", line 58, in get_best_invocation_for_this_pip\n",
            "    if found_executable and os.path.samefile(\n",
            "  File \"/usr/lib/python3.8/genericpath.py\", line 101, in samefile\n",
            "    s2 = os.stat(f2)\n",
            "FileNotFoundError: [Errno 2] No such file or directory: '/usr/bin/pip3.8'\n",
            "Call stack:\n",
            "  File \"/usr/lib/python3.8/runpy.py\", line 194, in _run_module_as_main\n",
            "    return _run_code(code, main_globals, None,\n",
            "  File \"/usr/lib/python3.8/runpy.py\", line 87, in _run_code\n",
            "    exec(code, run_globals)\n",
            "  File \"/home/linpeng/.local/lib/python3.8/site-packages/pip/__main__.py\", line 31, in <module>\n",
            "    sys.exit(_main())\n",
            "  File \"/home/linpeng/.local/lib/python3.8/site-packages/pip/_internal/cli/main.py\", line 70, in main\n",
            "    return command.main(cmd_args)\n",
            "  File \"/home/linpeng/.local/lib/python3.8/site-packages/pip/_internal/cli/base_command.py\", line 101, in main\n",
            "    return self._main(args)\n",
            "  File \"/home/linpeng/.local/lib/python3.8/site-packages/pip/_internal/cli/base_command.py\", line 223, in _main\n",
            "    self.handle_pip_version_check(options)\n",
            "  File \"/home/linpeng/.local/lib/python3.8/site-packages/pip/_internal/cli/req_command.py\", line 148, in handle_pip_version_check\n",
            "    pip_self_version_check(session, options)\n",
            "  File \"/home/linpeng/.local/lib/python3.8/site-packages/pip/_internal/self_outdated_check.py\", line 237, in pip_self_version_check\n",
            "    logger.info(\"[present-rich] %s\", upgrade_prompt)\n",
            "  File \"/usr/lib/python3.8/logging/__init__.py\", line 1446, in info\n",
            "    self._log(INFO, msg, args, **kwargs)\n",
            "  File \"/usr/lib/python3.8/logging/__init__.py\", line 1589, in _log\n",
            "    self.handle(record)\n",
            "  File \"/usr/lib/python3.8/logging/__init__.py\", line 1599, in handle\n",
            "    self.callHandlers(record)\n",
            "  File \"/usr/lib/python3.8/logging/__init__.py\", line 1661, in callHandlers\n",
            "    hdlr.handle(record)\n",
            "  File \"/usr/lib/python3.8/logging/__init__.py\", line 954, in handle\n",
            "    self.emit(record)\n",
            "  File \"/home/linpeng/.local/lib/python3.8/site-packages/pip/_internal/utils/logging.py\", line 179, in emit\n",
            "    self.handleError(record)\n",
            "Message: '[present-rich] %s'\n",
            "Arguments: (UpgradePrompt(old='22.1.2', new='22.2.2'),)\n",
            "Note: you may need to restart the kernel to use updated packages.\n"
          ]
        }
      ],
      "source": [
        "pip install xgboost"
      ]
    },
    {
      "cell_type": "code",
      "execution_count": null,
      "id": "d8dabda4",
      "metadata": {
        "id": "d8dabda4",
        "outputId": "ef78f623-fa3f-4b29-a7a4-d785bc130d52"
      },
      "outputs": [
        {
          "data": {
            "text/plain": [
              "0.7681692732290708"
            ]
          },
          "execution_count": 345,
          "metadata": {},
          "output_type": "execute_result"
        }
      ],
      "source": [
        "import xgboost as xgb\n",
        "from xgboost import XGBClassifier\n",
        "data_dmatrix = xgb.DMatrix(data=X_train,label=y_train)\n",
        "xg_clf = XGBClassifier(objective ='binary:logistic', colsample_bytree = 0.3, learning_rate = 0.1,\n",
        "                max_depth = 5, alpha = 10, n_estimators = 10,use_label_encoder=False)\n",
        "\n",
        "xg_clf.fit(X_train,y_train)\n",
        "accuracy_score(y_test, xg_clf.predict(X_test))"
      ]
    },
    {
      "cell_type": "code",
      "execution_count": null,
      "id": "f9125e78",
      "metadata": {
        "id": "f9125e78"
      },
      "outputs": [],
      "source": [
        "params = {\n",
        "        'min_child_weight': [1, 5, 10],\n",
        "        'gamma': [0.5, 1, 1.5, 2, 5],\n",
        "        'subsample': [0.6, 0.8, 1.0],\n",
        "        'colsample_bytree': [0.6, 0.8, 1.0],\n",
        "        'max_depth': [3, 4, 5],\n",
        "        'learning_rate':[0.1,0.2,0.3],\n",
        "        'objective':['binary:logistic' , ]\n",
        "        }"
      ]
    },
    {
      "cell_type": "code",
      "execution_count": null,
      "id": "7209674e",
      "metadata": {
        "id": "7209674e"
      },
      "outputs": [],
      "source": [
        "xgb = XGBClassifier(learning_rate=0.02, n_estimators=600, objective='binary:logistic',\n",
        "                    silent=True, nthread=1)"
      ]
    },
    {
      "cell_type": "code",
      "execution_count": null,
      "id": "f900718f",
      "metadata": {
        "scrolled": true,
        "id": "f900718f",
        "outputId": "1d208ada-e66a-4ad5-aee8-d8c46d21abaa"
      },
      "outputs": [
        {
          "name": "stdout",
          "output_type": "stream",
          "text": [
            "[19:36:23] WARNING: ../src/learner.cc:627: \n",
            "Parameters: { \"silent\" } might not be used.\n",
            "\n",
            "  This could be a false alarm, with some parameters getting used by language bindings but\n",
            "  then being mistakenly passed down to XGBoost core, or some parameter actually being used\n",
            "  but getting flagged wrongly here. Please open an issue if you find any such cases.\n",
            "\n",
            "\n"
          ]
        },
        {
          "data": {
            "text/plain": [
              "0.7681692732290708"
            ]
          },
          "execution_count": 333,
          "metadata": {},
          "output_type": "execute_result"
        }
      ],
      "source": [
        "xgb.fit(X_train,y_train)\n",
        "accuracy_score(y_test, xg_clf.predict(X_test))"
      ]
    },
    {
      "cell_type": "code",
      "execution_count": null,
      "id": "67ef4aa0",
      "metadata": {
        "id": "67ef4aa0"
      },
      "outputs": [],
      "source": [
        "from sklearn.model_selection import RandomizedSearchCV, GridSearchCV\n",
        "from sklearn.metrics import roc_auc_score\n",
        "from sklearn.model_selection import StratifiedKFold"
      ]
    },
    {
      "cell_type": "code",
      "execution_count": null,
      "id": "e7c7e0a2",
      "metadata": {
        "id": "e7c7e0a2"
      },
      "outputs": [],
      "source": [
        "folds = 3\n",
        "param_comb = 5\n",
        "\n",
        "skf = StratifiedKFold(n_splits=folds, shuffle = True, random_state = 1001)\n",
        "\n",
        "random_search = RandomizedSearchCV(xgb, param_distributions=params, n_iter=param_comb, scoring='roc_auc', n_jobs=4, cv=skf.split(X_train,y_train), verbose=3, random_state=1001 )"
      ]
    },
    {
      "cell_type": "code",
      "execution_count": null,
      "id": "2dc11142",
      "metadata": {
        "id": "2dc11142"
      },
      "outputs": [],
      "source": []
    },
    {
      "cell_type": "code",
      "execution_count": null,
      "id": "da58bb31",
      "metadata": {
        "id": "da58bb31",
        "outputId": "904ca034-bb55-483f-8059-c2453080f0a4"
      },
      "outputs": [
        {
          "name": "stdout",
          "output_type": "stream",
          "text": [
            "Fitting 3 folds for each of 5 candidates, totalling 15 fits\n"
          ]
        },
        {
          "name": "stderr",
          "output_type": "stream",
          "text": [
            "[Parallel(n_jobs=4)]: Using backend LokyBackend with 4 concurrent workers.\n",
            "[Parallel(n_jobs=4)]: Done  15 out of  15 | elapsed:    9.5s finished\n"
          ]
        },
        {
          "name": "stdout",
          "output_type": "stream",
          "text": [
            "[19:40:14] WARNING: ../src/learner.cc:627: \n",
            "Parameters: { \"silent\" } might not be used.\n",
            "\n",
            "  This could be a false alarm, with some parameters getting used by language bindings but\n",
            "  then being mistakenly passed down to XGBoost core, or some parameter actually being used\n",
            "  but getting flagged wrongly here. Please open an issue if you find any such cases.\n",
            "\n",
            "\n"
          ]
        },
        {
          "data": {
            "text/plain": [
              "RandomizedSearchCV(cv=<generator object _BaseKFold.split at 0x7fc9a844e040>,\n",
              "                   error_score=nan,\n",
              "                   estimator=XGBClassifier(base_score=0.5, booster='gbtree',\n",
              "                                           callbacks=None, colsample_bylevel=1,\n",
              "                                           colsample_bynode=1,\n",
              "                                           colsample_bytree=1,\n",
              "                                           early_stopping_rounds=None,\n",
              "                                           enable_categorical=False,\n",
              "                                           eval_metric=None, gamma=0, gpu_id=-1,\n",
              "                                           grow_policy='depthwise',\n",
              "                                           importance_type=None,\n",
              "                                           i...\n",
              "                                           objective='binary:logistic',\n",
              "                                           predictor='auto', random_state=0, ...),\n",
              "                   iid='deprecated', n_iter=5, n_jobs=4,\n",
              "                   param_distributions={'colsample_bytree': [0.6, 0.8, 1.0],\n",
              "                                        'gamma': [0.5, 1, 1.5, 2, 5],\n",
              "                                        'max_depth': [3, 4, 5],\n",
              "                                        'min_child_weight': [1, 5, 10],\n",
              "                                        'subsample': [0.6, 0.8, 1.0]},\n",
              "                   pre_dispatch='2*n_jobs', random_state=1001, refit=True,\n",
              "                   return_train_score=False, scoring='roc_auc', verbose=3)"
            ]
          },
          "execution_count": 342,
          "metadata": {},
          "output_type": "execute_result"
        }
      ],
      "source": [
        "\n",
        "random_search.fit(X_train,y_train)\n",
        " "
      ]
    },
    {
      "cell_type": "code",
      "execution_count": null,
      "id": "9757bb2a",
      "metadata": {
        "scrolled": true,
        "id": "9757bb2a",
        "outputId": "f3b1d44c-1779-4acc-fabb-3acb4658f11d"
      },
      "outputs": [
        {
          "data": {
            "text/plain": [
              "{'subsample': 0.8,\n",
              " 'min_child_weight': 1,\n",
              " 'max_depth': 4,\n",
              " 'gamma': 1,\n",
              " 'colsample_bytree': 1.0}"
            ]
          },
          "execution_count": 343,
          "metadata": {},
          "output_type": "execute_result"
        }
      ],
      "source": [
        "random_search.best_params_"
      ]
    },
    {
      "cell_type": "code",
      "execution_count": null,
      "id": "934b1c41",
      "metadata": {
        "id": "934b1c41",
        "outputId": "012c05e0-c2f9-4a8e-c050-e040ce470598"
      },
      "outputs": [
        {
          "data": {
            "text/plain": [
              "0.7879484820607175"
            ]
          },
          "execution_count": 348,
          "metadata": {},
          "output_type": "execute_result"
        }
      ],
      "source": [
        "xg_clf = XGBClassifier(objective ='binary:logistic', colsample_bytree = 1.0, learning_rate = 0.1,\n",
        "                max_depth = 4, alpha = 10, n_estimators = 10,use_label_encoder=False, gamma = 1, subsample = 0.8)\n",
        "\n",
        "xg_clf.fit(X_train,y_train)\n",
        "accuracy_score(y_test, xg_clf.predict(X_test))"
      ]
    },
    {
      "cell_type": "code",
      "execution_count": null,
      "id": "bbe0ad58",
      "metadata": {
        "id": "bbe0ad58"
      },
      "outputs": [],
      "source": [
        "prediction = xg_clf.predict(test_data)\n",
        "df[\"Transported\"] = prediction.astype(bool)\n",
        "df.to_csv('mycsv.csv', sep = ',', header=['PassengerId', 'Transported'], index=False)"
      ]
    },
    {
      "cell_type": "code",
      "execution_count": null,
      "id": "f016cda4",
      "metadata": {
        "id": "f016cda4",
        "outputId": "4bb19644-7995-43ee-83cb-33ce31d199a1"
      },
      "outputs": [
        {
          "data": {
            "text/plain": [
              "numpy.ndarray"
            ]
          },
          "execution_count": 351,
          "metadata": {},
          "output_type": "execute_result"
        }
      ],
      "source": [
        "type(prediction)"
      ]
    },
    {
      "cell_type": "code",
      "execution_count": null,
      "id": "7cbf2530",
      "metadata": {
        "id": "7cbf2530",
        "outputId": "8be0da0c-d76b-4980-9b69-36e0be5d06a0"
      },
      "outputs": [
        {
          "data": {
            "text/plain": [
              "array([ True, False,  True, ...,  True,  True,  True])"
            ]
          },
          "execution_count": 352,
          "metadata": {},
          "output_type": "execute_result"
        }
      ],
      "source": []
    },
    {
      "cell_type": "code",
      "execution_count": null,
      "id": "fec1a932",
      "metadata": {
        "id": "fec1a932"
      },
      "outputs": [],
      "source": []
    }
  ],
  "metadata": {
    "colab": {
      "provenance": [],
      "include_colab_link": true
    },
    "kernelspec": {
      "display_name": "Python 3",
      "language": "python",
      "name": "python3"
    },
    "language_info": {
      "codemirror_mode": {
        "name": "ipython",
        "version": 3
      },
      "file_extension": ".py",
      "mimetype": "text/x-python",
      "name": "python",
      "nbconvert_exporter": "python",
      "pygments_lexer": "ipython3",
      "version": "3.8.10"
    }
  },
  "nbformat": 4,
  "nbformat_minor": 5
}